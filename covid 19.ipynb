{
 "cells": [
  {
   "cell_type": "markdown",
   "metadata": {},
   "source": [
    "## 기존 강의가 2020.6.30. 기준이므로 2020.6.30 까지 데이터를 스크래핑"
   ]
  },
  {
   "cell_type": "code",
   "execution_count": 4,
   "metadata": {},
   "outputs": [],
   "source": [
    "import pandas as pd\n",
    "import numpy as np"
   ]
  },
  {
   "cell_type": "code",
   "execution_count": 5,
   "metadata": {},
   "outputs": [],
   "source": [
    "# 데이터 스크래핑용\n",
    "import requests\n",
    "import time\n",
    "from tqdm import trange"
   ]
  },
  {
   "cell_type": "code",
   "execution_count": 6,
   "metadata": {},
   "outputs": [
    {
     "data": {
      "text/plain": [
       "'http://www.seoul.go.kr/coronaV/coronaStatus.do'"
      ]
     },
     "execution_count": 6,
     "metadata": {},
     "output_type": "execute_result"
    }
   ],
   "source": [
    "url = \"http://www.seoul.go.kr/coronaV/coronaStatus.do\"\n",
    "url"
   ]
  },
  {
   "cell_type": "code",
   "execution_count": 7,
   "metadata": {},
   "outputs": [
    {
     "data": {
      "text/plain": [
       "8"
      ]
     },
     "execution_count": 7,
     "metadata": {},
     "output_type": "execute_result"
    }
   ],
   "source": [
    "table = pd.read_html(url)\n",
    "len(table)"
   ]
  },
  {
   "cell_type": "code",
   "execution_count": 8,
   "metadata": {},
   "outputs": [
    {
     "data": {
      "text/html": [
       "<div>\n",
       "<style scoped>\n",
       "    .dataframe tbody tr th:only-of-type {\n",
       "        vertical-align: middle;\n",
       "    }\n",
       "\n",
       "    .dataframe tbody tr th {\n",
       "        vertical-align: top;\n",
       "    }\n",
       "\n",
       "    .dataframe thead th {\n",
       "        text-align: right;\n",
       "    }\n",
       "</style>\n",
       "<table border=\"1\" class=\"dataframe\">\n",
       "  <thead>\n",
       "    <tr style=\"text-align: right;\">\n",
       "      <th></th>\n",
       "      <th>연번</th>\n",
       "      <th>환자</th>\n",
       "      <th>확진일</th>\n",
       "      <th>거주지</th>\n",
       "      <th>여행력</th>\n",
       "      <th>접촉력</th>\n",
       "      <th>퇴원현황</th>\n",
       "    </tr>\n",
       "  </thead>\n",
       "  <tbody>\n",
       "  </tbody>\n",
       "</table>\n",
       "</div>"
      ],
      "text/plain": [
       "Empty DataFrame\n",
       "Columns: [연번, 환자, 확진일, 거주지, 여행력, 접촉력, 퇴원현황]\n",
       "Index: []"
      ]
     },
     "execution_count": 8,
     "metadata": {},
     "output_type": "execute_result"
    }
   ],
   "source": [
    "df_columns_name = table[5]\n",
    "df_columns_name"
   ]
  },
  {
   "cell_type": "code",
   "execution_count": 9,
   "metadata": {},
   "outputs": [
    {
     "data": {
      "text/plain": [
       "'https://news.seoul.go.kr/api/27/getCorona19Status/get_status_ajax_pre.php?start=700&length=100'"
      ]
     },
     "execution_count": 9,
     "metadata": {},
     "output_type": "execute_result"
    }
   ],
   "source": [
    "# 1목록과 2목록의 차이는 ajax(_pre)\n",
    "# 강의와는 다르게 draw는 영향을 미치지 않는 것을 확인\n",
    "url = \"https://news.seoul.go.kr/api/27/getCorona19Status/get_status_ajax_pre.php?\"\n",
    "# url = \"&columns%5B0%5D%5Bdata%5D=0&columns%5B0%5D%5Bname%5D=&columns%5B0%5D%5Bsearchable%5D=true&columns%5B0%5D%5Borderable%5D=true&columns%5B0%5D%5Bsearch%5D%5Bvalue%5D=&columns%5B0%5D%5Bsearch%5D%5Bregex%5D=false&columns%5B1%5D%5Bdata%5D=1&columns%5B1%5D%5Bname%5D=&columns%5B1%5D%5Bsearchable%5D=true&columns%5B1%5D%5Borderable%5D=true&columns%5B1%5D%5Bsearch%5D%5Bvalue%5D=&columns%5B1%5D%5Bsearch%5D%5Bregex%5D=false&columns%5B2%5D%5Bdata%5D=2&columns%5B2%5D%5Bname%5D=&columns%5B2%5D%5Bsearchable%5D=true&columns%5B2%5D%5Borderable%5D=true&columns%5B2%5D%5Bsearch%5D%5Bvalue%5D=&columns%5B2%5D%5Bsearch%5D%5Bregex%5D=false&columns%5B3%5D%5Bdata%5D=3&columns%5B3%5D%5Bname%5D=&columns%5B3%5D%5Bsearchable%5D=true&columns%5B3%5D%5Borderable%5D=true&columns%5B3%5D%5Bsearch%5D%5Bvalue%5D=&columns%5B3%5D%5Bsearch%5D%5Bregex%5D=false&columns%5B4%5D%5Bdata%5D=4&columns%5B4%5D%5Bname%5D=&columns%5B4%5D%5Bsearchable%5D=true&columns%5B4%5D%5Borderable%5D=true&columns%5B4%5D%5Bsearch%5D%5Bvalue%5D=&columns%5B4%5D%5Bsearch%5D%5Bregex%5D=false&columns%5B5%5D%5Bdata%5D=5&columns%5B5%5D%5Bname%5D=&columns%5B5%5D%5Bsearchable%5D=true&columns%5B5%5D%5Borderable%5D=true&columns%5B5%5D%5Bsearch%5D%5Bvalue%5D=&columns%5B5%5D%5Bsearch%5D%5Bregex%5D=false&columns%5B6%5D%5Bdata%5D=6&columns%5B6%5D%5Bname%5D=&columns%5B6%5D%5Bsearchable%5D=true&columns%5B6%5D%5Borderable%5D=true&columns%5B6%5D%5Bsearch%5D%5Bvalue%5D=&columns%5B6%5D%5Bsearch%5D%5Bregex%5D=false&order%5B0%5D%5Bcolumn%5D=0&order%5B0%5D%5Bdir%5D=desc\"\n",
    "url = f\"{url}start=700&length=100\"\n",
    "# url = \"&search%5Bvalue%5D=&search%5Bregex%5D=true&_=1631860219066\"\n",
    "url"
   ]
  },
  {
   "cell_type": "code",
   "execution_count": 10,
   "metadata": {
    "scrolled": true
   },
   "outputs": [
    {
     "data": {
      "text/html": [
       "<div>\n",
       "<style scoped>\n",
       "    .dataframe tbody tr th:only-of-type {\n",
       "        vertical-align: middle;\n",
       "    }\n",
       "\n",
       "    .dataframe tbody tr th {\n",
       "        vertical-align: top;\n",
       "    }\n",
       "\n",
       "    .dataframe thead th {\n",
       "        text-align: right;\n",
       "    }\n",
       "</style>\n",
       "<table border=\"1\" class=\"dataframe\">\n",
       "  <thead>\n",
       "    <tr style=\"text-align: right;\">\n",
       "      <th></th>\n",
       "      <th>0</th>\n",
       "      <th>1</th>\n",
       "      <th>2</th>\n",
       "      <th>3</th>\n",
       "      <th>4</th>\n",
       "      <th>5</th>\n",
       "      <th>6</th>\n",
       "    </tr>\n",
       "  </thead>\n",
       "  <tbody>\n",
       "    <tr>\n",
       "      <th>0</th>\n",
       "      <td>&lt;p class='corona19_no'&gt;39300&lt;/p&gt;</td>\n",
       "      <td>126484</td>\n",
       "      <td>2021-05-07</td>\n",
       "      <td>강남구</td>\n",
       "      <td>-</td>\n",
       "      <td>강남구 소재 학원 관련('21.5.)</td>\n",
       "      <td>&lt;b class='status1'&gt;퇴원&lt;/b&gt;</td>\n",
       "    </tr>\n",
       "    <tr>\n",
       "      <th>1</th>\n",
       "      <td>&lt;p class='corona19_no'&gt;39299&lt;/p&gt;</td>\n",
       "      <td>126327</td>\n",
       "      <td>2021-05-07</td>\n",
       "      <td>송파구</td>\n",
       "      <td>-</td>\n",
       "      <td>동작구 소재 시장 관련</td>\n",
       "      <td>&lt;b class='status1'&gt;퇴원&lt;/b&gt;</td>\n",
       "    </tr>\n",
       "    <tr>\n",
       "      <th>2</th>\n",
       "      <td>&lt;p class='corona19_no'&gt;39298&lt;/p&gt;</td>\n",
       "      <td>126432</td>\n",
       "      <td>2021-05-07</td>\n",
       "      <td>은평구</td>\n",
       "      <td>-</td>\n",
       "      <td>은평구 소재 종교시설 관련('21.5.(2))</td>\n",
       "      <td>&lt;b class='status1'&gt;퇴원&lt;/b&gt;</td>\n",
       "    </tr>\n",
       "    <tr>\n",
       "      <th>3</th>\n",
       "      <td>&lt;p class='corona19_no'&gt;39297&lt;/p&gt;</td>\n",
       "      <td>126330</td>\n",
       "      <td>2021-05-07</td>\n",
       "      <td>송파구</td>\n",
       "      <td>-</td>\n",
       "      <td>동작구 소재 시장 관련</td>\n",
       "      <td>&lt;b class='status1'&gt;퇴원&lt;/b&gt;</td>\n",
       "    </tr>\n",
       "    <tr>\n",
       "      <th>4</th>\n",
       "      <td>&lt;p class='corona19_no'&gt;39296&lt;/p&gt;</td>\n",
       "      <td>126551</td>\n",
       "      <td>2021-05-07</td>\n",
       "      <td>강남구</td>\n",
       "      <td>-</td>\n",
       "      <td>기타 확진자 접촉</td>\n",
       "      <td>&lt;b class='status1'&gt;퇴원&lt;/b&gt;</td>\n",
       "    </tr>\n",
       "    <tr>\n",
       "      <th>...</th>\n",
       "      <td>...</td>\n",
       "      <td>...</td>\n",
       "      <td>...</td>\n",
       "      <td>...</td>\n",
       "      <td>...</td>\n",
       "      <td>...</td>\n",
       "      <td>...</td>\n",
       "    </tr>\n",
       "    <tr>\n",
       "      <th>95</th>\n",
       "      <td>&lt;p class='corona19_no'&gt;39205&lt;/p&gt;</td>\n",
       "      <td>126290</td>\n",
       "      <td>2021-05-07</td>\n",
       "      <td>강서구</td>\n",
       "      <td>-</td>\n",
       "      <td>기타 확진자 접촉</td>\n",
       "      <td>&lt;b class='status1'&gt;퇴원&lt;/b&gt;</td>\n",
       "    </tr>\n",
       "    <tr>\n",
       "      <th>96</th>\n",
       "      <td>&lt;p class='corona19_no'&gt;39204&lt;/p&gt;</td>\n",
       "      <td>126261</td>\n",
       "      <td>2021-05-07</td>\n",
       "      <td>동대문구</td>\n",
       "      <td>-</td>\n",
       "      <td>기타 확진자 접촉</td>\n",
       "      <td>&lt;b class='status1'&gt;퇴원&lt;/b&gt;</td>\n",
       "    </tr>\n",
       "    <tr>\n",
       "      <th>97</th>\n",
       "      <td>&lt;p class='corona19_no'&gt;39203&lt;/p&gt;</td>\n",
       "      <td>126567</td>\n",
       "      <td>2021-05-07</td>\n",
       "      <td>강남구</td>\n",
       "      <td>-</td>\n",
       "      <td>강남구 소재 학원 관련('21.5.)</td>\n",
       "      <td>&lt;b class='status1'&gt;퇴원&lt;/b&gt;</td>\n",
       "    </tr>\n",
       "    <tr>\n",
       "      <th>98</th>\n",
       "      <td>&lt;p class='corona19_no'&gt;39202&lt;/p&gt;</td>\n",
       "      <td>126532</td>\n",
       "      <td>2021-05-07</td>\n",
       "      <td>도봉구</td>\n",
       "      <td>-</td>\n",
       "      <td>기타 확진자 접촉</td>\n",
       "      <td>&lt;b class='status1'&gt;퇴원&lt;/b&gt;</td>\n",
       "    </tr>\n",
       "    <tr>\n",
       "      <th>99</th>\n",
       "      <td>&lt;p class='corona19_no'&gt;39201&lt;/p&gt;</td>\n",
       "      <td>126279</td>\n",
       "      <td>2021-05-07</td>\n",
       "      <td>은평구</td>\n",
       "      <td>-</td>\n",
       "      <td>타시도(고양시) 음식점 관련</td>\n",
       "      <td>&lt;b class='status1'&gt;퇴원&lt;/b&gt;</td>\n",
       "    </tr>\n",
       "  </tbody>\n",
       "</table>\n",
       "<p>100 rows × 7 columns</p>\n",
       "</div>"
      ],
      "text/plain": [
       "                                   0       1           2     3  4  \\\n",
       "0   <p class='corona19_no'>39300</p>  126484  2021-05-07   강남구  -   \n",
       "1   <p class='corona19_no'>39299</p>  126327  2021-05-07   송파구  -   \n",
       "2   <p class='corona19_no'>39298</p>  126432  2021-05-07   은평구  -   \n",
       "3   <p class='corona19_no'>39297</p>  126330  2021-05-07   송파구  -   \n",
       "4   <p class='corona19_no'>39296</p>  126551  2021-05-07   강남구  -   \n",
       "..                               ...     ...         ...   ... ..   \n",
       "95  <p class='corona19_no'>39205</p>  126290  2021-05-07   강서구  -   \n",
       "96  <p class='corona19_no'>39204</p>  126261  2021-05-07  동대문구  -   \n",
       "97  <p class='corona19_no'>39203</p>  126567  2021-05-07   강남구  -   \n",
       "98  <p class='corona19_no'>39202</p>  126532  2021-05-07   도봉구  -   \n",
       "99  <p class='corona19_no'>39201</p>  126279  2021-05-07   은평구  -   \n",
       "\n",
       "                            5                          6  \n",
       "0        강남구 소재 학원 관련('21.5.)  <b class='status1'>퇴원</b>  \n",
       "1                동작구 소재 시장 관련  <b class='status1'>퇴원</b>  \n",
       "2   은평구 소재 종교시설 관련('21.5.(2))  <b class='status1'>퇴원</b>  \n",
       "3                동작구 소재 시장 관련  <b class='status1'>퇴원</b>  \n",
       "4                   기타 확진자 접촉  <b class='status1'>퇴원</b>  \n",
       "..                        ...                        ...  \n",
       "95                  기타 확진자 접촉  <b class='status1'>퇴원</b>  \n",
       "96                  기타 확진자 접촉  <b class='status1'>퇴원</b>  \n",
       "97       강남구 소재 학원 관련('21.5.)  <b class='status1'>퇴원</b>  \n",
       "98                  기타 확진자 접촉  <b class='status1'>퇴원</b>  \n",
       "99            타시도(고양시) 음식점 관련  <b class='status1'>퇴원</b>  \n",
       "\n",
       "[100 rows x 7 columns]"
      ]
     },
     "execution_count": 10,
     "metadata": {},
     "output_type": "execute_result"
    }
   ],
   "source": [
    "response = requests.get(url)\n",
    "data_json = response.json()\n",
    "pd.DataFrame(data_json['data'])"
   ]
  },
  {
   "cell_type": "code",
   "execution_count": 11,
   "metadata": {},
   "outputs": [
    {
     "data": {
      "text/plain": [
       "40000"
      ]
     },
     "execution_count": 11,
     "metadata": {},
     "output_type": "execute_result"
    }
   ],
   "source": [
    "record_total = data_json['recordsTotal']\n",
    "record_total"
   ]
  },
  {
   "cell_type": "code",
   "execution_count": 12,
   "metadata": {},
   "outputs": [],
   "source": [
    "def get_seoul_covid19_100(page_no):\n",
    "    start_no = (page_no - 1) * 100\n",
    "    url = f\"https://news.seoul.go.kr/api/27/getCorona19Status/get_status_ajax_pre.php?\"\n",
    "    url = f\"{url}&order%5B0%5D%5Bdir%5D=desc&start={start_no}&length=100\"\n",
    "    response = requests.get(url)\n",
    "    data_json = response.json()\n",
    "    return data_json"
   ]
  },
  {
   "cell_type": "code",
   "execution_count": 13,
   "metadata": {},
   "outputs": [
    {
     "data": {
      "text/plain": [
       "{'draw': 1,\n",
       " 'recordsTotal': 40000,\n",
       " 'recordsFiltered': 40000,\n",
       " 'data': [[\"<p class='corona19_no'>39100</p>\",\n",
       "   '125838',\n",
       "   '2021-05-06',\n",
       "   '영등포구',\n",
       "   '-',\n",
       "   '기타 확진자 접촉',\n",
       "   \"<b class='status1'>퇴원</b>\"],\n",
       "  [\"<p class='corona19_no'>39099</p>\",\n",
       "   '125839',\n",
       "   '2021-05-06',\n",
       "   '영등포구',\n",
       "   '-',\n",
       "   \"중구 소재 직장 관련('21.5.)\",\n",
       "   \"<b class='status1'>퇴원</b>\"],\n",
       "  [\"<p class='corona19_no'>39098</p>\",\n",
       "   '125768',\n",
       "   '2021-05-06',\n",
       "   '노원구',\n",
       "   '-',\n",
       "   '강북구 소재 노래연습장 관련',\n",
       "   \"<b class='status1'>퇴원</b>\"],\n",
       "  [\"<p class='corona19_no'>39097</p>\",\n",
       "   '125859',\n",
       "   '2021-05-06',\n",
       "   '금천구',\n",
       "   '-',\n",
       "   '타시도(고양시) 음식점 관련',\n",
       "   \"<b class='status1'>퇴원</b>\"],\n",
       "  [\"<p class='corona19_no'>39096</p>\",\n",
       "   '125603',\n",
       "   '2021-05-06',\n",
       "   '노원구',\n",
       "   '-',\n",
       "   \"중구 소재 직장 관련('21.5.)\",\n",
       "   \"<b class='status1'>퇴원</b>\"],\n",
       "  [\"<p class='corona19_no'>39095</p>\",\n",
       "   '125702',\n",
       "   '2021-05-06',\n",
       "   '노원구',\n",
       "   '-',\n",
       "   '기타 확진자 접촉',\n",
       "   \"<b class='status1'>퇴원</b>\"],\n",
       "  [\"<p class='corona19_no'>39094</p>\",\n",
       "   '125836',\n",
       "   '2021-05-06',\n",
       "   '영등포구',\n",
       "   '-',\n",
       "   '감염경로 조사중',\n",
       "   \"<b class='status1'>퇴원</b>\"],\n",
       "  [\"<p class='corona19_no'>39093</p>\",\n",
       "   '125779',\n",
       "   '2021-05-06',\n",
       "   '강남구',\n",
       "   '-',\n",
       "   '기타 확진자 접촉',\n",
       "   \"<b class='status1'>퇴원</b>\"],\n",
       "  [\"<p class='corona19_no'>39092</p>\",\n",
       "   '125766',\n",
       "   '2021-05-06',\n",
       "   '노원구',\n",
       "   '-',\n",
       "   '기타 확진자 접촉',\n",
       "   \"<b class='status1'>퇴원</b>\"],\n",
       "  [\"<p class='corona19_no'>39091</p>\",\n",
       "   '125824',\n",
       "   '2021-05-06',\n",
       "   '광진구',\n",
       "   '-',\n",
       "   '감염경로 조사중',\n",
       "   \"<b class='status1'>퇴원</b>\"],\n",
       "  [\"<p class='corona19_no'>39090</p>\",\n",
       "   '125813',\n",
       "   '2021-05-06',\n",
       "   '금천구',\n",
       "   '-',\n",
       "   '금천구 소재 종교시설 관련',\n",
       "   \"<b class='status1'>퇴원</b>\"],\n",
       "  [\"<p class='corona19_no'>39089</p>\",\n",
       "   '125803',\n",
       "   '2021-05-06',\n",
       "   '금천구',\n",
       "   '-',\n",
       "   '기타 확진자 접촉',\n",
       "   \"<b class='status1'>퇴원</b>\"],\n",
       "  [\"<p class='corona19_no'>39088</p>\",\n",
       "   '125752',\n",
       "   '2021-05-06',\n",
       "   '영등포구',\n",
       "   '-',\n",
       "   '기타 확진자 접촉',\n",
       "   \"<b class='status1'>퇴원</b>\"],\n",
       "  [\"<p class='corona19_no'>39087</p>\",\n",
       "   '125754',\n",
       "   '2021-05-06',\n",
       "   '영등포구',\n",
       "   '-',\n",
       "   '기타 확진자 접촉',\n",
       "   \"<b class='status1'>퇴원</b>\"],\n",
       "  [\"<p class='corona19_no'>39086</p>\",\n",
       "   '125920',\n",
       "   '2021-05-06',\n",
       "   '성동구',\n",
       "   '-',\n",
       "   \"성동구 소재 직장 관련('21.5.)\",\n",
       "   \"<b class='status1'>퇴원</b>\"],\n",
       "  [\"<p class='corona19_no'>39085</p>\",\n",
       "   '125815',\n",
       "   '2021-05-06',\n",
       "   '강남구',\n",
       "   '-',\n",
       "   '기타 확진자 접촉',\n",
       "   \"<b class='status1'>퇴원</b>\"],\n",
       "  [\"<p class='corona19_no'>39084</p>\",\n",
       "   '125922',\n",
       "   '2021-05-06',\n",
       "   '성동구',\n",
       "   '-',\n",
       "   \"성동구 소재 직장 관련('21.5.)\",\n",
       "   \"<b class='status1'>퇴원</b>\"],\n",
       "  [\"<p class='corona19_no'>39083</p>\",\n",
       "   '125921',\n",
       "   '2021-05-06',\n",
       "   '성동구',\n",
       "   '-',\n",
       "   \"성동구 소재 직장 관련('21.5.)\",\n",
       "   \"<b class='status1'>퇴원</b>\"],\n",
       "  [\"<p class='corona19_no'>39082</p>\",\n",
       "   '125792',\n",
       "   '2021-05-06',\n",
       "   '서초구',\n",
       "   '-',\n",
       "   '기타 확진자 접촉',\n",
       "   \"<b class='status1'>퇴원</b>\"],\n",
       "  [\"<p class='corona19_no'>39081</p>\",\n",
       "   '125799',\n",
       "   '2021-05-06',\n",
       "   '강남구',\n",
       "   '-',\n",
       "   '기타 확진자 접촉',\n",
       "   \"<b class='status1'>퇴원</b>\"],\n",
       "  [\"<p class='corona19_no'>39080</p>\",\n",
       "   '125646',\n",
       "   '2021-05-06',\n",
       "   '타시도',\n",
       "   '-',\n",
       "   '기타 확진자 접촉',\n",
       "   \"<b class='status1'>퇴원</b>\"],\n",
       "  [\"<p class='corona19_no'>39079</p>\",\n",
       "   '125837',\n",
       "   '2021-05-06',\n",
       "   '서대문구',\n",
       "   '-',\n",
       "   '기타 확진자 접촉',\n",
       "   \"<b class='status1'>퇴원</b>\"],\n",
       "  [\"<p class='corona19_no'>39078</p>\",\n",
       "   '125795',\n",
       "   '2021-05-06',\n",
       "   '서초구',\n",
       "   '-',\n",
       "   '감염경로 조사중',\n",
       "   \"<b class='status1'>퇴원</b>\"],\n",
       "  [\"<p class='corona19_no'>39077</p>\",\n",
       "   '125750',\n",
       "   '2021-05-06',\n",
       "   '강서구',\n",
       "   '-',\n",
       "   '감염경로 조사중',\n",
       "   \"<b class='status1'>퇴원</b>\"],\n",
       "  [\"<p class='corona19_no'>39076</p>\",\n",
       "   '125704',\n",
       "   '2021-05-06',\n",
       "   '송파구',\n",
       "   '-',\n",
       "   '감염경로 조사중',\n",
       "   \"<b class='status1'>퇴원</b>\"],\n",
       "  [\"<p class='corona19_no'>39075</p>\",\n",
       "   '125796',\n",
       "   '2021-05-06',\n",
       "   '강남구',\n",
       "   '-',\n",
       "   '강남구 소재 초등학교 관련',\n",
       "   \"<b class='status1'>퇴원</b>\"],\n",
       "  [\"<p class='corona19_no'>39074</p>\",\n",
       "   '125841',\n",
       "   '2021-05-06',\n",
       "   '서대문구',\n",
       "   '-',\n",
       "   '기타 확진자 접촉',\n",
       "   \"<b class='status1'>퇴원</b>\"],\n",
       "  [\"<p class='corona19_no'>39073</p>\",\n",
       "   '125827',\n",
       "   '2021-05-06',\n",
       "   '강남구',\n",
       "   '-',\n",
       "   '기타 확진자 접촉',\n",
       "   \"<b class='status1'>퇴원</b>\"],\n",
       "  [\"<p class='corona19_no'>39072</p>\",\n",
       "   '125769',\n",
       "   '2021-05-06',\n",
       "   '타시도',\n",
       "   '-',\n",
       "   '기타 확진자 접촉',\n",
       "   \"<b class='status1'>퇴원</b>\"],\n",
       "  [\"<p class='corona19_no'>39071</p>\",\n",
       "   '125888',\n",
       "   '2021-05-06',\n",
       "   '관악구',\n",
       "   '-',\n",
       "   '기타 확진자 접촉',\n",
       "   \"<b class='status1'>퇴원</b>\"],\n",
       "  [\"<p class='corona19_no'>39070</p>\",\n",
       "   '125889',\n",
       "   '2021-05-06',\n",
       "   '관악구',\n",
       "   '-',\n",
       "   '감염경로 조사중',\n",
       "   \"<b class='status1'>퇴원</b>\"],\n",
       "  [\"<p class='corona19_no'>39069</p>\",\n",
       "   '125692',\n",
       "   '2021-05-06',\n",
       "   '송파구',\n",
       "   '-',\n",
       "   '기타 확진자 접촉',\n",
       "   \"<b class='status1'>퇴원</b>\"],\n",
       "  [\"<p class='corona19_no'>39068</p>\",\n",
       "   '125707',\n",
       "   '2021-05-06',\n",
       "   '구로구',\n",
       "   '-',\n",
       "   '감염경로 조사중',\n",
       "   \"<b class='status1'>퇴원</b>\"],\n",
       "  [\"<p class='corona19_no'>39067</p>\",\n",
       "   '125720',\n",
       "   '2021-05-06',\n",
       "   '구로구',\n",
       "   '-',\n",
       "   '강남구 소재 학원 관련',\n",
       "   \"<b class='status1'>퇴원</b>\"],\n",
       "  [\"<p class='corona19_no'>39066</p>\",\n",
       "   '125701',\n",
       "   '2021-05-06',\n",
       "   '송파구',\n",
       "   '-',\n",
       "   '감염경로 조사중',\n",
       "   \"<b class='status1'>퇴원</b>\"],\n",
       "  [\"<p class='corona19_no'>39065</p>\",\n",
       "   '125825',\n",
       "   '2021-05-06',\n",
       "   '강남구',\n",
       "   '-',\n",
       "   '병원 및 요양시설',\n",
       "   \"<b class='status1'>퇴원</b>\"],\n",
       "  [\"<p class='corona19_no'>39064</p>\",\n",
       "   '125714',\n",
       "   '2021-05-06',\n",
       "   '은평구',\n",
       "   '-',\n",
       "   '타시도 확진자 접촉',\n",
       "   \"<b class='status1'>퇴원</b>\"],\n",
       "  [\"<p class='corona19_no'>39063</p>\",\n",
       "   '125798',\n",
       "   '2021-05-06',\n",
       "   '강남구',\n",
       "   '-',\n",
       "   '기타 확진자 접촉',\n",
       "   \"<b class='status1'>퇴원</b>\"],\n",
       "  [\"<p class='corona19_no'>39062</p>\",\n",
       "   '125560',\n",
       "   '2021-05-06',\n",
       "   '구로구',\n",
       "   '-',\n",
       "   '기타 확진자 접촉',\n",
       "   \"<b class='status1'>퇴원</b>\"],\n",
       "  [\"<p class='corona19_no'>39061</p>\",\n",
       "   '125700',\n",
       "   '2021-05-06',\n",
       "   '송파구',\n",
       "   '-',\n",
       "   '감염경로 조사중',\n",
       "   \"<b class='status1'>퇴원</b>\"],\n",
       "  [\"<p class='corona19_no'>39060</p>\",\n",
       "   '125743',\n",
       "   '2021-05-06',\n",
       "   '영등포구',\n",
       "   '-',\n",
       "   '강남구 소재 학원 관련',\n",
       "   \"<b class='status1'>퇴원</b>\"],\n",
       "  [\"<p class='corona19_no'>39059</p>\",\n",
       "   '125696',\n",
       "   '2021-05-06',\n",
       "   '송파구',\n",
       "   '-',\n",
       "   '기타 확진자 접촉',\n",
       "   \"<b class='status1'>퇴원</b>\"],\n",
       "  [\"<p class='corona19_no'>39058</p>\",\n",
       "   '125715',\n",
       "   '2021-05-06',\n",
       "   '은평구',\n",
       "   '-',\n",
       "   '기타 확진자 접촉',\n",
       "   \"<b class='status1'>퇴원</b>\"],\n",
       "  [\"<p class='corona19_no'>39057</p>\",\n",
       "   '125876',\n",
       "   '2021-05-06',\n",
       "   '관악구',\n",
       "   '-',\n",
       "   \"관악구 소재 직장 관련('21.4.)\",\n",
       "   \"<b class='status1'>퇴원</b>\"],\n",
       "  [\"<p class='corona19_no'>39056</p>\",\n",
       "   '125688',\n",
       "   '2021-05-06',\n",
       "   '강동구',\n",
       "   '-',\n",
       "   '기타 확진자 접촉',\n",
       "   \"<b class='status1'>퇴원</b>\"],\n",
       "  [\"<p class='corona19_no'>39055</p>\",\n",
       "   '125525',\n",
       "   '2021-05-06',\n",
       "   '강북구',\n",
       "   '-',\n",
       "   '강북구 소재 음식점 관련',\n",
       "   \"<b class='status1'>퇴원</b>\"],\n",
       "  [\"<p class='corona19_no'>39054</p>\",\n",
       "   '125644',\n",
       "   '2021-05-06',\n",
       "   '타시도',\n",
       "   '-',\n",
       "   '강북구 소재 pc방 관련',\n",
       "   \"<b class='status1'>퇴원</b>\"],\n",
       "  [\"<p class='corona19_no'>39053</p>\",\n",
       "   '125639',\n",
       "   '2021-05-06',\n",
       "   '타시도',\n",
       "   '-',\n",
       "   '타시도 확진자 접촉',\n",
       "   \"<b class='status1'>퇴원</b>\"],\n",
       "  [\"<p class='corona19_no'>39052</p>\",\n",
       "   '125742',\n",
       "   '2021-05-06',\n",
       "   '강남구',\n",
       "   '-',\n",
       "   '기타 확진자 접촉',\n",
       "   \"<b class='status1'>퇴원</b>\"],\n",
       "  [\"<p class='corona19_no'>39051</p>\",\n",
       "   '125645',\n",
       "   '2021-05-06',\n",
       "   '타시도',\n",
       "   '-',\n",
       "   '타시도 확진자 접촉',\n",
       "   \"<b class='status1'>퇴원</b>\"],\n",
       "  [\"<p class='corona19_no'>39050</p>\",\n",
       "   '125744',\n",
       "   '2021-05-06',\n",
       "   '강서구',\n",
       "   '-',\n",
       "   \"강남구 소재 직장 관련('21.5.(2))\",\n",
       "   \"<b class='status1'>퇴원</b>\"],\n",
       "  [\"<p class='corona19_no'>39049</p>\",\n",
       "   '125753',\n",
       "   '2021-05-06',\n",
       "   '서대문구',\n",
       "   '-',\n",
       "   '감염경로 조사중',\n",
       "   \"<b class='status1'>퇴원</b>\"],\n",
       "  [\"<p class='corona19_no'>39048</p>\",\n",
       "   '125900',\n",
       "   '2021-05-06',\n",
       "   '구로구',\n",
       "   '-',\n",
       "   '강남구 소재 학원 관련',\n",
       "   \"<b class='status1'>퇴원</b>\"],\n",
       "  [\"<p class='corona19_no'>39047</p>\",\n",
       "   '125559',\n",
       "   '2021-05-06',\n",
       "   '구로구',\n",
       "   '-',\n",
       "   '기타 확진자 접촉',\n",
       "   \"<b class='status1'>퇴원</b>\"],\n",
       "  [\"<p class='corona19_no'>39046</p>\",\n",
       "   '125887',\n",
       "   '2021-05-06',\n",
       "   '관악구',\n",
       "   '-',\n",
       "   \"수도권 지인모임 관련('21.4.(2))\",\n",
       "   \"<b class='status1'>퇴원</b>\"],\n",
       "  [\"<p class='corona19_no'>39045</p>\",\n",
       "   '125709',\n",
       "   '2021-05-06',\n",
       "   '중랑구',\n",
       "   '-',\n",
       "   '기타 확진자 접촉',\n",
       "   \"<b class='status1'>퇴원</b>\"],\n",
       "  [\"<p class='corona19_no'>39044</p>\",\n",
       "   '125786',\n",
       "   '2021-05-06',\n",
       "   '중구',\n",
       "   '-',\n",
       "   '감염경로 조사중',\n",
       "   \"<b class='status1'>퇴원</b>\"],\n",
       "  [\"<p class='corona19_no'>39043</p>\",\n",
       "   '125764',\n",
       "   '2021-05-06',\n",
       "   '동대문구',\n",
       "   '-',\n",
       "   '기타 확진자 접촉',\n",
       "   \"<b class='status1'>퇴원</b>\"],\n",
       "  [\"<p class='corona19_no'>39042</p>\",\n",
       "   '125689',\n",
       "   '2021-05-06',\n",
       "   '송파구',\n",
       "   '-',\n",
       "   '기타 확진자 접촉',\n",
       "   \"<b class='status1'>퇴원</b>\"],\n",
       "  [\"<p class='corona19_no'>39041</p>\",\n",
       "   '125539',\n",
       "   '2021-05-06',\n",
       "   '강북구',\n",
       "   '-',\n",
       "   '기타 확진자 접촉',\n",
       "   \"<b class='status1'>퇴원</b>\"],\n",
       "  [\"<p class='corona19_no'>39040</p>\",\n",
       "   '125781',\n",
       "   '2021-05-06',\n",
       "   '광진구',\n",
       "   '-',\n",
       "   '감염경로 조사중',\n",
       "   \"<b class='status1'>퇴원</b>\"],\n",
       "  [\"<p class='corona19_no'>39039</p>\",\n",
       "   '125772',\n",
       "   '2021-05-06',\n",
       "   '강동구',\n",
       "   '-',\n",
       "   '기타 확진자 접촉',\n",
       "   \"<b class='status1'>퇴원</b>\"],\n",
       "  [\"<p class='corona19_no'>39038</p>\",\n",
       "   '125711',\n",
       "   '2021-05-06',\n",
       "   '중랑구',\n",
       "   '-',\n",
       "   '기타 확진자 접촉',\n",
       "   \"<b class='status1'>퇴원</b>\"],\n",
       "  [\"<p class='corona19_no'>39037</p>\",\n",
       "   '125687',\n",
       "   '2021-05-06',\n",
       "   '성북구',\n",
       "   '-',\n",
       "   \"동대문구 소재 직장 관련('21.5.(3))\",\n",
       "   \"<b class='status1'>퇴원</b>\"],\n",
       "  [\"<p class='corona19_no'>39036</p>\",\n",
       "   '125763',\n",
       "   '2021-05-06',\n",
       "   '성동구',\n",
       "   '-',\n",
       "   '기타 확진자 접촉',\n",
       "   \"<b class='status1'>퇴원</b>\"],\n",
       "  [\"<p class='corona19_no'>39035</p>\",\n",
       "   '125699',\n",
       "   '2021-05-06',\n",
       "   '송파구',\n",
       "   '-',\n",
       "   '감염경로 조사중',\n",
       "   \"<b class='status1'>퇴원</b>\"],\n",
       "  [\"<p class='corona19_no'>39034</p>\",\n",
       "   '125680',\n",
       "   '2021-05-06',\n",
       "   '송파구',\n",
       "   '-',\n",
       "   '기타 확진자 접촉',\n",
       "   \"<b class='status1'>퇴원</b>\"],\n",
       "  [\"<p class='corona19_no'>39033</p>\",\n",
       "   '125619',\n",
       "   '2021-05-06',\n",
       "   '은평구',\n",
       "   '-',\n",
       "   \"은평구 소재 종교시설 관련('21.5.(2))\",\n",
       "   \"<b class='status1'>퇴원</b>\"],\n",
       "  [\"<p class='corona19_no'>39032</p>\",\n",
       "   '125681',\n",
       "   '2021-05-06',\n",
       "   '도봉구',\n",
       "   '-',\n",
       "   '강북구 소재 pc방 관련',\n",
       "   \"<b class='status1'>퇴원</b>\"],\n",
       "  [\"<p class='corona19_no'>39031</p>\",\n",
       "   '125705',\n",
       "   '2021-05-06',\n",
       "   '양천구',\n",
       "   '-',\n",
       "   '타시도 확진자 접촉',\n",
       "   \"<b class='status1'>퇴원</b>\"],\n",
       "  [\"<p class='corona19_no'>39030</p>\",\n",
       "   '125597',\n",
       "   '2021-05-06',\n",
       "   '동대문구',\n",
       "   '-',\n",
       "   '기타 확진자 접촉',\n",
       "   \"<b class='status1'>퇴원</b>\"],\n",
       "  [\"<p class='corona19_no'>39029</p>\",\n",
       "   '125785',\n",
       "   '2021-05-06',\n",
       "   '도봉구',\n",
       "   '-',\n",
       "   '감염경로 조사중',\n",
       "   \"<b class='status1'>퇴원</b>\"],\n",
       "  [\"<p class='corona19_no'>39028</p>\",\n",
       "   '125745',\n",
       "   '2021-05-06',\n",
       "   '은평구',\n",
       "   '-',\n",
       "   '타시도(고양시) 음식점 관련',\n",
       "   \"<b class='status1'>퇴원</b>\"],\n",
       "  [\"<p class='corona19_no'>39027</p>\",\n",
       "   '125894',\n",
       "   '2021-05-06',\n",
       "   '강남구',\n",
       "   '-',\n",
       "   '병원 및 요양시설',\n",
       "   \"<b class='status1'>퇴원</b>\"],\n",
       "  [\"<p class='corona19_no'>39026</p>\",\n",
       "   '125698',\n",
       "   '2021-05-06',\n",
       "   '성북구',\n",
       "   '-',\n",
       "   '타시도 확진자 접촉',\n",
       "   \"<b class='status1'>퇴원</b>\"],\n",
       "  [\"<p class='corona19_no'>39025</p>\",\n",
       "   '125811',\n",
       "   '2021-05-06',\n",
       "   '도봉구',\n",
       "   '-',\n",
       "   '기타 확진자 접촉',\n",
       "   \"<b class='status1'>퇴원</b>\"],\n",
       "  [\"<p class='corona19_no'>39024</p>\",\n",
       "   '125607',\n",
       "   '2021-05-06',\n",
       "   '강동구',\n",
       "   '-',\n",
       "   '기타 확진자 접촉',\n",
       "   \"<b class='status1'>퇴원</b>\"],\n",
       "  [\"<p class='corona19_no'>39023</p>\",\n",
       "   '125773',\n",
       "   '2021-05-06',\n",
       "   '강동구',\n",
       "   '-',\n",
       "   '송파구 소재 직장관련',\n",
       "   \"<b class='status1'>퇴원</b>\"],\n",
       "  [\"<p class='corona19_no'>39022</p>\",\n",
       "   '125547',\n",
       "   '2021-05-06',\n",
       "   '강북구',\n",
       "   '-',\n",
       "   '타시도 확진자 접촉',\n",
       "   \"<b class='status1'>퇴원</b>\"],\n",
       "  [\"<p class='corona19_no'>39021</p>\",\n",
       "   '125821',\n",
       "   '2021-05-06',\n",
       "   '서초구',\n",
       "   '-',\n",
       "   '기타 확진자 접촉',\n",
       "   \"<b class='status1'>퇴원</b>\"],\n",
       "  [\"<p class='corona19_no'>39020</p>\",\n",
       "   '125617',\n",
       "   '2021-05-06',\n",
       "   '강남구',\n",
       "   '-',\n",
       "   '타시도 확진자 접촉',\n",
       "   \"<b class='status1'>퇴원</b>\"],\n",
       "  [\"<p class='corona19_no'>39019</p>\",\n",
       "   '125686',\n",
       "   '2021-05-06',\n",
       "   '성북구',\n",
       "   '-',\n",
       "   '기타 확진자 접촉',\n",
       "   \"<b class='status1'>퇴원</b>\"],\n",
       "  [\"<p class='corona19_no'>39018</p>\",\n",
       "   '126038',\n",
       "   '2021-05-06',\n",
       "   '관악구',\n",
       "   '-',\n",
       "   '기타 확진자 접촉',\n",
       "   \"<b class='status1'>퇴원</b>\"],\n",
       "  [\"<p class='corona19_no'>39017</p>\",\n",
       "   '125546',\n",
       "   '2021-05-06',\n",
       "   '강북구',\n",
       "   '-',\n",
       "   '기타 확진자 접촉',\n",
       "   \"<b class='status1'>퇴원</b>\"],\n",
       "  [\"<p class='corona19_no'>39016</p>\",\n",
       "   '125818',\n",
       "   '2021-05-06',\n",
       "   '서초구',\n",
       "   '-',\n",
       "   '기타 확진자 접촉',\n",
       "   \"<b class='status1'>퇴원</b>\"],\n",
       "  [\"<p class='corona19_no'>39015</p>\",\n",
       "   '125683',\n",
       "   '2021-05-06',\n",
       "   '서초구',\n",
       "   '-',\n",
       "   '기타 확진자 접촉',\n",
       "   \"<b class='status1'>퇴원</b>\"],\n",
       "  [\"<p class='corona19_no'>39014</p>\",\n",
       "   '125810',\n",
       "   '2021-05-06',\n",
       "   '도봉구',\n",
       "   '-',\n",
       "   '기타 확진자 접촉',\n",
       "   \"<b class='status1'>퇴원</b>\"],\n",
       "  [\"<p class='corona19_no'>39013</p>\",\n",
       "   '125592',\n",
       "   '2021-05-06',\n",
       "   '용산구',\n",
       "   '-',\n",
       "   '감염경로 조사중',\n",
       "   \"<b class='status1'>퇴원</b>\"],\n",
       "  [\"<p class='corona19_no'>39012</p>\",\n",
       "   '125662',\n",
       "   '2021-05-06',\n",
       "   '중랑구',\n",
       "   '-',\n",
       "   '기타 확진자 접촉',\n",
       "   \"<b class='status1'>퇴원</b>\"],\n",
       "  [\"<p class='corona19_no'>39011</p>\",\n",
       "   '125647',\n",
       "   '2021-05-06',\n",
       "   '송파구',\n",
       "   '-',\n",
       "   '감염경로 조사중',\n",
       "   \"<b class='status1'>퇴원</b>\"],\n",
       "  [\"<p class='corona19_no'>39010</p>\",\n",
       "   '125877',\n",
       "   '2021-05-06',\n",
       "   '관악구',\n",
       "   '-',\n",
       "   \"동작구 소재 병원 관련('21.5.)\",\n",
       "   \"<b class='status1'>퇴원</b>\"],\n",
       "  [\"<p class='corona19_no'>39009</p>\",\n",
       "   '125654',\n",
       "   '2021-05-06',\n",
       "   '중랑구',\n",
       "   '-',\n",
       "   '기타 확진자 접촉',\n",
       "   \"<b class='status1'>퇴원</b>\"],\n",
       "  [\"<p class='corona19_no'>39008</p>\",\n",
       "   '125703',\n",
       "   '2021-05-06',\n",
       "   '강남구',\n",
       "   '-',\n",
       "   \"강남구 소재 학원 관련('21.5.)\",\n",
       "   \"<b class='status1'>퇴원</b>\"],\n",
       "  [\"<p class='corona19_no'>39007</p>\",\n",
       "   '125808',\n",
       "   '2021-05-06',\n",
       "   '도봉구',\n",
       "   '-',\n",
       "   '광진구 음식점/노원구 어린이집 관련',\n",
       "   \"<b class='status1'>퇴원</b>\"],\n",
       "  [\"<p class='corona19_no'>39006</p>\",\n",
       "   '125541',\n",
       "   '2021-05-06',\n",
       "   '강북구',\n",
       "   '-',\n",
       "   '동작구 소재 시장 관련',\n",
       "   \"<b class='status1'>퇴원</b>\"],\n",
       "  [\"<p class='corona19_no'>39005</p>\",\n",
       "   '125679',\n",
       "   '2021-05-06',\n",
       "   '도봉구',\n",
       "   '-',\n",
       "   '강북구 소재 PC방 관련',\n",
       "   \"<b class='status1'>퇴원</b>\"],\n",
       "  [\"<p class='corona19_no'>39004</p>\",\n",
       "   '125605',\n",
       "   '2021-05-06',\n",
       "   '은평구',\n",
       "   '-',\n",
       "   \"서대문구 소재 종교시설 관련('21.5.)\",\n",
       "   \"<b class='status1'>퇴원</b>\"],\n",
       "  [\"<p class='corona19_no'>39003</p>\",\n",
       "   '125678',\n",
       "   '2021-05-06',\n",
       "   '서초구',\n",
       "   '-',\n",
       "   '감염경로 조사중',\n",
       "   \"<b class='status1'>퇴원</b>\"],\n",
       "  [\"<p class='corona19_no'>39002</p>\",\n",
       "   '125800',\n",
       "   '2021-05-06',\n",
       "   '도봉구',\n",
       "   '-',\n",
       "   '강북구 소재 PC방 관련',\n",
       "   \"<b class='status1'>퇴원</b>\"],\n",
       "  [\"<p class='corona19_no'>39001</p>\",\n",
       "   '125591',\n",
       "   '2021-05-06',\n",
       "   '용산구',\n",
       "   '-',\n",
       "   \"중구 소재 직장 관련('21.5.)\",\n",
       "   \"<b class='status1'>퇴원</b>\"]]}"
      ]
     },
     "execution_count": 13,
     "metadata": {},
     "output_type": "execute_result"
    }
   ],
   "source": [
    "# 데이터 있을 때\n",
    "get_seoul_covid19_100(10)"
   ]
  },
  {
   "cell_type": "code",
   "execution_count": 14,
   "metadata": {},
   "outputs": [
    {
     "data": {
      "text/plain": [
       "{'draw': 1, 'recordsTotal': 40000, 'recordsFiltered': 40000, 'data': []}"
      ]
     },
     "execution_count": 14,
     "metadata": {},
     "output_type": "execute_result"
    }
   ],
   "source": [
    "# 데이터 없을 때\n",
    "get_seoul_covid19_100(401)"
   ]
  },
  {
   "cell_type": "code",
   "execution_count": 15,
   "metadata": {},
   "outputs": [
    {
     "name": "stderr",
     "output_type": "stream",
     "text": [
      "100%|██████████| 7/7 [00:06<00:00,  1.02it/s]\n"
     ]
    }
   ],
   "source": [
    "page_list = []\n",
    "all_page = 7\n",
    "for page_no in trange(1, all_page + 1):\n",
    "    one_page = get_seoul_covid19_100(page_no)\n",
    "    one_page = pd.DataFrame(one_page['data'])\n",
    "    page_list.append(one_page)\n",
    "    time.sleep(0.5)"
   ]
  },
  {
   "cell_type": "code",
   "execution_count": 16,
   "metadata": {},
   "outputs": [
    {
     "data": {
      "text/html": [
       "<div>\n",
       "<style scoped>\n",
       "    .dataframe tbody tr th:only-of-type {\n",
       "        vertical-align: middle;\n",
       "    }\n",
       "\n",
       "    .dataframe tbody tr th {\n",
       "        vertical-align: top;\n",
       "    }\n",
       "\n",
       "    .dataframe thead th {\n",
       "        text-align: right;\n",
       "    }\n",
       "</style>\n",
       "<table border=\"1\" class=\"dataframe\">\n",
       "  <thead>\n",
       "    <tr style=\"text-align: right;\">\n",
       "      <th></th>\n",
       "      <th>0</th>\n",
       "      <th>1</th>\n",
       "      <th>2</th>\n",
       "      <th>3</th>\n",
       "      <th>4</th>\n",
       "      <th>5</th>\n",
       "      <th>6</th>\n",
       "    </tr>\n",
       "  </thead>\n",
       "  <tbody>\n",
       "    <tr>\n",
       "      <th>0</th>\n",
       "      <td>&lt;p class='corona19_no'&gt;40000&lt;/p&gt;</td>\n",
       "      <td>128607</td>\n",
       "      <td>2021-05-11</td>\n",
       "      <td>서초구</td>\n",
       "      <td>-</td>\n",
       "      <td>기타 확진자 접촉</td>\n",
       "      <td>&lt;b class='status1'&gt;퇴원&lt;/b&gt;</td>\n",
       "    </tr>\n",
       "    <tr>\n",
       "      <th>1</th>\n",
       "      <td>&lt;p class='corona19_no'&gt;39999&lt;/p&gt;</td>\n",
       "      <td>128576</td>\n",
       "      <td>2021-05-11</td>\n",
       "      <td>양천구</td>\n",
       "      <td>-</td>\n",
       "      <td>양천구 소재 직장 관련('21.5.)</td>\n",
       "      <td>&lt;b class='status1'&gt;퇴원&lt;/b&gt;</td>\n",
       "    </tr>\n",
       "    <tr>\n",
       "      <th>2</th>\n",
       "      <td>&lt;p class='corona19_no'&gt;39998&lt;/p&gt;</td>\n",
       "      <td>128347</td>\n",
       "      <td>2021-05-11</td>\n",
       "      <td>강북구</td>\n",
       "      <td>-</td>\n",
       "      <td>기타 확진자 접촉</td>\n",
       "      <td>&lt;b class='status1'&gt;퇴원&lt;/b&gt;</td>\n",
       "    </tr>\n",
       "    <tr>\n",
       "      <th>3</th>\n",
       "      <td>&lt;p class='corona19_no'&gt;39997&lt;/p&gt;</td>\n",
       "      <td>128724</td>\n",
       "      <td>2021-05-11</td>\n",
       "      <td>강남구</td>\n",
       "      <td>-</td>\n",
       "      <td>기타 확진자 접촉</td>\n",
       "      <td>&lt;b class='status1'&gt;퇴원&lt;/b&gt;</td>\n",
       "    </tr>\n",
       "    <tr>\n",
       "      <th>4</th>\n",
       "      <td>&lt;p class='corona19_no'&gt;39996&lt;/p&gt;</td>\n",
       "      <td>128478</td>\n",
       "      <td>2021-05-11</td>\n",
       "      <td>양천구</td>\n",
       "      <td>-</td>\n",
       "      <td>감염경로 조사중</td>\n",
       "      <td>&lt;b class='status1'&gt;퇴원&lt;/b&gt;</td>\n",
       "    </tr>\n",
       "    <tr>\n",
       "      <th>...</th>\n",
       "      <td>...</td>\n",
       "      <td>...</td>\n",
       "      <td>...</td>\n",
       "      <td>...</td>\n",
       "      <td>...</td>\n",
       "      <td>...</td>\n",
       "      <td>...</td>\n",
       "    </tr>\n",
       "    <tr>\n",
       "      <th>95</th>\n",
       "      <td>&lt;p class='corona19_no'&gt;39305&lt;/p&gt;</td>\n",
       "      <td>126344</td>\n",
       "      <td>2021-05-07</td>\n",
       "      <td>성북구</td>\n",
       "      <td>-</td>\n",
       "      <td>병원 및 요양시설</td>\n",
       "      <td>&lt;b class='status1'&gt;퇴원&lt;/b&gt;</td>\n",
       "    </tr>\n",
       "    <tr>\n",
       "      <th>96</th>\n",
       "      <td>&lt;p class='corona19_no'&gt;39304&lt;/p&gt;</td>\n",
       "      <td>126335</td>\n",
       "      <td>2021-05-07</td>\n",
       "      <td>송파구</td>\n",
       "      <td>-</td>\n",
       "      <td>동작구 소재 시장 관련</td>\n",
       "      <td>&lt;b class='status1'&gt;퇴원&lt;/b&gt;</td>\n",
       "    </tr>\n",
       "    <tr>\n",
       "      <th>97</th>\n",
       "      <td>&lt;p class='corona19_no'&gt;39303&lt;/p&gt;</td>\n",
       "      <td>126593</td>\n",
       "      <td>2021-05-07</td>\n",
       "      <td>강남구</td>\n",
       "      <td>-</td>\n",
       "      <td>감염경로 조사중</td>\n",
       "      <td>&lt;b class='status1'&gt;퇴원&lt;/b&gt;</td>\n",
       "    </tr>\n",
       "    <tr>\n",
       "      <th>98</th>\n",
       "      <td>&lt;p class='corona19_no'&gt;39302&lt;/p&gt;</td>\n",
       "      <td>126485</td>\n",
       "      <td>2021-05-07</td>\n",
       "      <td>강남구</td>\n",
       "      <td>-</td>\n",
       "      <td>기타 확진자 접촉</td>\n",
       "      <td>&lt;b class='status1'&gt;퇴원&lt;/b&gt;</td>\n",
       "    </tr>\n",
       "    <tr>\n",
       "      <th>99</th>\n",
       "      <td>&lt;p class='corona19_no'&gt;39301&lt;/p&gt;</td>\n",
       "      <td>126228</td>\n",
       "      <td>2021-05-07</td>\n",
       "      <td>송파구</td>\n",
       "      <td>-</td>\n",
       "      <td>병원 및 요양시설</td>\n",
       "      <td>&lt;b class='status1'&gt;퇴원&lt;/b&gt;</td>\n",
       "    </tr>\n",
       "  </tbody>\n",
       "</table>\n",
       "<p>700 rows × 7 columns</p>\n",
       "</div>"
      ],
      "text/plain": [
       "                                   0       1           2    3  4  \\\n",
       "0   <p class='corona19_no'>40000</p>  128607  2021-05-11  서초구  -   \n",
       "1   <p class='corona19_no'>39999</p>  128576  2021-05-11  양천구  -   \n",
       "2   <p class='corona19_no'>39998</p>  128347  2021-05-11  강북구  -   \n",
       "3   <p class='corona19_no'>39997</p>  128724  2021-05-11  강남구  -   \n",
       "4   <p class='corona19_no'>39996</p>  128478  2021-05-11  양천구  -   \n",
       "..                               ...     ...         ...  ... ..   \n",
       "95  <p class='corona19_no'>39305</p>  126344  2021-05-07  성북구  -   \n",
       "96  <p class='corona19_no'>39304</p>  126335  2021-05-07  송파구  -   \n",
       "97  <p class='corona19_no'>39303</p>  126593  2021-05-07  강남구  -   \n",
       "98  <p class='corona19_no'>39302</p>  126485  2021-05-07  강남구  -   \n",
       "99  <p class='corona19_no'>39301</p>  126228  2021-05-07  송파구  -   \n",
       "\n",
       "                       5                          6  \n",
       "0              기타 확진자 접촉  <b class='status1'>퇴원</b>  \n",
       "1   양천구 소재 직장 관련('21.5.)  <b class='status1'>퇴원</b>  \n",
       "2              기타 확진자 접촉  <b class='status1'>퇴원</b>  \n",
       "3              기타 확진자 접촉  <b class='status1'>퇴원</b>  \n",
       "4               감염경로 조사중  <b class='status1'>퇴원</b>  \n",
       "..                   ...                        ...  \n",
       "95             병원 및 요양시설  <b class='status1'>퇴원</b>  \n",
       "96          동작구 소재 시장 관련  <b class='status1'>퇴원</b>  \n",
       "97              감염경로 조사중  <b class='status1'>퇴원</b>  \n",
       "98             기타 확진자 접촉  <b class='status1'>퇴원</b>  \n",
       "99             병원 및 요양시설  <b class='status1'>퇴원</b>  \n",
       "\n",
       "[700 rows x 7 columns]"
      ]
     },
     "execution_count": 16,
     "metadata": {},
     "output_type": "execute_result"
    }
   ],
   "source": [
    "pd.concat(page_list)"
   ]
  },
  {
   "cell_type": "code",
   "execution_count": 17,
   "metadata": {},
   "outputs": [],
   "source": [
    "def get_range_pages(start_page, end_page):\n",
    "    page_list = []\n",
    "    for page_no in trange(start_page, end_page + 1):\n",
    "        one_page = get_seoul_covid19_100(page_no)\n",
    "        if len(one_page['data']) > 0:\n",
    "            one_page = pd.DataFrame(one_page['data'])\n",
    "            page_list.append(one_page)\n",
    "            time.sleep(0.5)\n",
    "        else:\n",
    "            return page_list\n",
    "    return page_list"
   ]
  },
  {
   "cell_type": "code",
   "execution_count": 18,
   "metadata": {
    "scrolled": true
   },
   "outputs": [
    {
     "name": "stderr",
     "output_type": "stream",
     "text": [
      "100%|██████████| 10/10 [00:09<00:00,  1.05it/s]\n"
     ]
    }
   ],
   "source": [
    "# 강의와 변형된 코드로 진행하였으므로 확인 필요\n",
    "start_page = 1\n",
    "end_page = 10\n",
    "page_list = get_range_pages(start_page, end_page)"
   ]
  },
  {
   "cell_type": "code",
   "execution_count": 19,
   "metadata": {},
   "outputs": [
    {
     "data": {
      "text/html": [
       "<div>\n",
       "<style scoped>\n",
       "    .dataframe tbody tr th:only-of-type {\n",
       "        vertical-align: middle;\n",
       "    }\n",
       "\n",
       "    .dataframe tbody tr th {\n",
       "        vertical-align: top;\n",
       "    }\n",
       "\n",
       "    .dataframe thead th {\n",
       "        text-align: right;\n",
       "    }\n",
       "</style>\n",
       "<table border=\"1\" class=\"dataframe\">\n",
       "  <thead>\n",
       "    <tr style=\"text-align: right;\">\n",
       "      <th></th>\n",
       "      <th>0</th>\n",
       "      <th>1</th>\n",
       "      <th>2</th>\n",
       "      <th>3</th>\n",
       "      <th>4</th>\n",
       "      <th>5</th>\n",
       "      <th>6</th>\n",
       "    </tr>\n",
       "  </thead>\n",
       "  <tbody>\n",
       "    <tr>\n",
       "      <th>0</th>\n",
       "      <td>&lt;p class='corona19_no'&gt;40000&lt;/p&gt;</td>\n",
       "      <td>128607</td>\n",
       "      <td>2021-05-11</td>\n",
       "      <td>서초구</td>\n",
       "      <td>-</td>\n",
       "      <td>기타 확진자 접촉</td>\n",
       "      <td>&lt;b class='status1'&gt;퇴원&lt;/b&gt;</td>\n",
       "    </tr>\n",
       "    <tr>\n",
       "      <th>1</th>\n",
       "      <td>&lt;p class='corona19_no'&gt;39999&lt;/p&gt;</td>\n",
       "      <td>128576</td>\n",
       "      <td>2021-05-11</td>\n",
       "      <td>양천구</td>\n",
       "      <td>-</td>\n",
       "      <td>양천구 소재 직장 관련('21.5.)</td>\n",
       "      <td>&lt;b class='status1'&gt;퇴원&lt;/b&gt;</td>\n",
       "    </tr>\n",
       "    <tr>\n",
       "      <th>2</th>\n",
       "      <td>&lt;p class='corona19_no'&gt;39998&lt;/p&gt;</td>\n",
       "      <td>128347</td>\n",
       "      <td>2021-05-11</td>\n",
       "      <td>강북구</td>\n",
       "      <td>-</td>\n",
       "      <td>기타 확진자 접촉</td>\n",
       "      <td>&lt;b class='status1'&gt;퇴원&lt;/b&gt;</td>\n",
       "    </tr>\n",
       "    <tr>\n",
       "      <th>3</th>\n",
       "      <td>&lt;p class='corona19_no'&gt;39997&lt;/p&gt;</td>\n",
       "      <td>128724</td>\n",
       "      <td>2021-05-11</td>\n",
       "      <td>강남구</td>\n",
       "      <td>-</td>\n",
       "      <td>기타 확진자 접촉</td>\n",
       "      <td>&lt;b class='status1'&gt;퇴원&lt;/b&gt;</td>\n",
       "    </tr>\n",
       "    <tr>\n",
       "      <th>4</th>\n",
       "      <td>&lt;p class='corona19_no'&gt;39996&lt;/p&gt;</td>\n",
       "      <td>128478</td>\n",
       "      <td>2021-05-11</td>\n",
       "      <td>양천구</td>\n",
       "      <td>-</td>\n",
       "      <td>감염경로 조사중</td>\n",
       "      <td>&lt;b class='status1'&gt;퇴원&lt;/b&gt;</td>\n",
       "    </tr>\n",
       "    <tr>\n",
       "      <th>...</th>\n",
       "      <td>...</td>\n",
       "      <td>...</td>\n",
       "      <td>...</td>\n",
       "      <td>...</td>\n",
       "      <td>...</td>\n",
       "      <td>...</td>\n",
       "      <td>...</td>\n",
       "    </tr>\n",
       "    <tr>\n",
       "      <th>95</th>\n",
       "      <td>&lt;p class='corona19_no'&gt;39005&lt;/p&gt;</td>\n",
       "      <td>125679</td>\n",
       "      <td>2021-05-06</td>\n",
       "      <td>도봉구</td>\n",
       "      <td>-</td>\n",
       "      <td>강북구 소재 PC방 관련</td>\n",
       "      <td>&lt;b class='status1'&gt;퇴원&lt;/b&gt;</td>\n",
       "    </tr>\n",
       "    <tr>\n",
       "      <th>96</th>\n",
       "      <td>&lt;p class='corona19_no'&gt;39004&lt;/p&gt;</td>\n",
       "      <td>125605</td>\n",
       "      <td>2021-05-06</td>\n",
       "      <td>은평구</td>\n",
       "      <td>-</td>\n",
       "      <td>서대문구 소재 종교시설 관련('21.5.)</td>\n",
       "      <td>&lt;b class='status1'&gt;퇴원&lt;/b&gt;</td>\n",
       "    </tr>\n",
       "    <tr>\n",
       "      <th>97</th>\n",
       "      <td>&lt;p class='corona19_no'&gt;39003&lt;/p&gt;</td>\n",
       "      <td>125678</td>\n",
       "      <td>2021-05-06</td>\n",
       "      <td>서초구</td>\n",
       "      <td>-</td>\n",
       "      <td>감염경로 조사중</td>\n",
       "      <td>&lt;b class='status1'&gt;퇴원&lt;/b&gt;</td>\n",
       "    </tr>\n",
       "    <tr>\n",
       "      <th>98</th>\n",
       "      <td>&lt;p class='corona19_no'&gt;39002&lt;/p&gt;</td>\n",
       "      <td>125800</td>\n",
       "      <td>2021-05-06</td>\n",
       "      <td>도봉구</td>\n",
       "      <td>-</td>\n",
       "      <td>강북구 소재 PC방 관련</td>\n",
       "      <td>&lt;b class='status1'&gt;퇴원&lt;/b&gt;</td>\n",
       "    </tr>\n",
       "    <tr>\n",
       "      <th>99</th>\n",
       "      <td>&lt;p class='corona19_no'&gt;39001&lt;/p&gt;</td>\n",
       "      <td>125591</td>\n",
       "      <td>2021-05-06</td>\n",
       "      <td>용산구</td>\n",
       "      <td>-</td>\n",
       "      <td>중구 소재 직장 관련('21.5.)</td>\n",
       "      <td>&lt;b class='status1'&gt;퇴원&lt;/b&gt;</td>\n",
       "    </tr>\n",
       "  </tbody>\n",
       "</table>\n",
       "<p>1000 rows × 7 columns</p>\n",
       "</div>"
      ],
      "text/plain": [
       "                                   0       1           2    3  4  \\\n",
       "0   <p class='corona19_no'>40000</p>  128607  2021-05-11  서초구  -   \n",
       "1   <p class='corona19_no'>39999</p>  128576  2021-05-11  양천구  -   \n",
       "2   <p class='corona19_no'>39998</p>  128347  2021-05-11  강북구  -   \n",
       "3   <p class='corona19_no'>39997</p>  128724  2021-05-11  강남구  -   \n",
       "4   <p class='corona19_no'>39996</p>  128478  2021-05-11  양천구  -   \n",
       "..                               ...     ...         ...  ... ..   \n",
       "95  <p class='corona19_no'>39005</p>  125679  2021-05-06  도봉구  -   \n",
       "96  <p class='corona19_no'>39004</p>  125605  2021-05-06  은평구  -   \n",
       "97  <p class='corona19_no'>39003</p>  125678  2021-05-06  서초구  -   \n",
       "98  <p class='corona19_no'>39002</p>  125800  2021-05-06  도봉구  -   \n",
       "99  <p class='corona19_no'>39001</p>  125591  2021-05-06  용산구  -   \n",
       "\n",
       "                          5                          6  \n",
       "0                 기타 확진자 접촉  <b class='status1'>퇴원</b>  \n",
       "1      양천구 소재 직장 관련('21.5.)  <b class='status1'>퇴원</b>  \n",
       "2                 기타 확진자 접촉  <b class='status1'>퇴원</b>  \n",
       "3                 기타 확진자 접촉  <b class='status1'>퇴원</b>  \n",
       "4                  감염경로 조사중  <b class='status1'>퇴원</b>  \n",
       "..                      ...                        ...  \n",
       "95            강북구 소재 PC방 관련  <b class='status1'>퇴원</b>  \n",
       "96  서대문구 소재 종교시설 관련('21.5.)  <b class='status1'>퇴원</b>  \n",
       "97                 감염경로 조사중  <b class='status1'>퇴원</b>  \n",
       "98            강북구 소재 PC방 관련  <b class='status1'>퇴원</b>  \n",
       "99      중구 소재 직장 관련('21.5.)  <b class='status1'>퇴원</b>  \n",
       "\n",
       "[1000 rows x 7 columns]"
      ]
     },
     "execution_count": 19,
     "metadata": {},
     "output_type": "execute_result"
    }
   ],
   "source": [
    "pd.concat(page_list)\n",
    "# 이상 없음"
   ]
  },
  {
   "cell_type": "code",
   "execution_count": 20,
   "metadata": {
    "scrolled": true
   },
   "outputs": [
    {
     "name": "stderr",
     "output_type": "stream",
     "text": [
      "100%|██████████| 400/400 [06:34<00:00,  1.01it/s]\n"
     ]
    },
    {
     "data": {
      "text/plain": [
       "400"
      ]
     },
     "execution_count": 20,
     "metadata": {},
     "output_type": "execute_result"
    }
   ],
   "source": [
    "# 2020.6.30. 기준으로 만들기 위해 해당 일자까지 데이터만 스크래핑하려 했으나 \n",
    "# 방법을 알지 못하여 모든 자료를 받아 df로 만든 후 필터링 진행\n",
    "start_page = 1\n",
    "end_page = 400\n",
    "page_list = get_range_pages(start_page, end_page)\n",
    "len(page_list)"
   ]
  },
  {
   "cell_type": "code",
   "execution_count": 21,
   "metadata": {},
   "outputs": [
    {
     "data": {
      "text/plain": [
       "[                                   0      1           2    3  4  \\\n",
       " 0   <p class='corona19_no'>10000</p>  37131  2020-12-05  금천구  -   \n",
       " 1    <p class='corona19_no'>9999</p>  37141  2020-12-05  금천구  -   \n",
       " 2    <p class='corona19_no'>9998</p>  37541  2020-12-05  송파구  -   \n",
       " 3    <p class='corona19_no'>9997</p>  37542  2020-12-05  송파구  -   \n",
       " 4    <p class='corona19_no'>9996</p>  37087  2020-12-05  서초구  -   \n",
       " ..                               ...    ...         ...  ... ..   \n",
       " 95   <p class='corona19_no'>9905</p>  36753  2020-12-04  강남구  -   \n",
       " 96   <p class='corona19_no'>9904</p>  36734  2020-12-04  성동구  -   \n",
       " 97   <p class='corona19_no'>9903</p>  36732  2020-12-04  서초구  -   \n",
       " 98   <p class='corona19_no'>9902</p>  36751  2020-12-04  강남구  -   \n",
       " 99   <p class='corona19_no'>9901</p>  36727  2020-12-04  은평구  -   \n",
       " \n",
       "                  5                          6  \n",
       " 0   구로구 소재 보험회사 관련  <b class='status1'>퇴원</b>  \n",
       " 1        기타 확진자 접촉  <b class='status1'>퇴원</b>  \n",
       " 2        기타 확진자 접촉  <b class='status1'>퇴원</b>  \n",
       " 3        기타 확진자 접촉  <b class='status1'>퇴원</b>  \n",
       " 4        기타 확진자 접촉  <b class='status1'>퇴원</b>  \n",
       " ..             ...                        ...  \n",
       " 95     강남구 소재 요양병원  <b class='status1'>퇴원</b>  \n",
       " 96     강남구 소재 요양병원  <b class='status1'>퇴원</b>  \n",
       " 97      동작구 사우나 관련  <b class='status1'>퇴원</b>  \n",
       " 98     강남구 소재 요양병원  <b class='status1'>퇴원</b>  \n",
       " 99       기타 확진자 접촉  <b class='status1'>퇴원</b>  \n",
       " \n",
       " [100 rows x 7 columns]]"
      ]
     },
     "execution_count": 21,
     "metadata": {},
     "output_type": "execute_result"
    }
   ],
   "source": [
    "# 데이터 확인\n",
    "page_list[300:301]\n",
    "# 이상 없음"
   ]
  },
  {
   "cell_type": "code",
   "execution_count": 22,
   "metadata": {},
   "outputs": [
    {
     "data": {
      "text/plain": [
       "(40000, 7)"
      ]
     },
     "execution_count": 22,
     "metadata": {},
     "output_type": "execute_result"
    }
   ],
   "source": [
    "df_all = pd.concat(page_list)\n",
    "df_all.shape"
   ]
  },
  {
   "cell_type": "code",
   "execution_count": 23,
   "metadata": {},
   "outputs": [],
   "source": [
    "cols = table[5].columns.tolist()"
   ]
  },
  {
   "cell_type": "code",
   "execution_count": 24,
   "metadata": {},
   "outputs": [],
   "source": [
    "df_all.columns = cols"
   ]
  },
  {
   "cell_type": "code",
   "execution_count": 25,
   "metadata": {},
   "outputs": [
    {
     "data": {
      "text/html": [
       "<div>\n",
       "<style scoped>\n",
       "    .dataframe tbody tr th:only-of-type {\n",
       "        vertical-align: middle;\n",
       "    }\n",
       "\n",
       "    .dataframe tbody tr th {\n",
       "        vertical-align: top;\n",
       "    }\n",
       "\n",
       "    .dataframe thead th {\n",
       "        text-align: right;\n",
       "    }\n",
       "</style>\n",
       "<table border=\"1\" class=\"dataframe\">\n",
       "  <thead>\n",
       "    <tr style=\"text-align: right;\">\n",
       "      <th></th>\n",
       "      <th>연번</th>\n",
       "      <th>환자</th>\n",
       "      <th>확진일</th>\n",
       "      <th>거주지</th>\n",
       "      <th>여행력</th>\n",
       "      <th>접촉력</th>\n",
       "      <th>퇴원현황</th>\n",
       "    </tr>\n",
       "  </thead>\n",
       "  <tbody>\n",
       "    <tr>\n",
       "      <th>0</th>\n",
       "      <td>&lt;p class='corona19_no'&gt;40000&lt;/p&gt;</td>\n",
       "      <td>128607</td>\n",
       "      <td>2021-05-11</td>\n",
       "      <td>서초구</td>\n",
       "      <td>-</td>\n",
       "      <td>기타 확진자 접촉</td>\n",
       "      <td>&lt;b class='status1'&gt;퇴원&lt;/b&gt;</td>\n",
       "    </tr>\n",
       "    <tr>\n",
       "      <th>1</th>\n",
       "      <td>&lt;p class='corona19_no'&gt;39999&lt;/p&gt;</td>\n",
       "      <td>128576</td>\n",
       "      <td>2021-05-11</td>\n",
       "      <td>양천구</td>\n",
       "      <td>-</td>\n",
       "      <td>양천구 소재 직장 관련('21.5.)</td>\n",
       "      <td>&lt;b class='status1'&gt;퇴원&lt;/b&gt;</td>\n",
       "    </tr>\n",
       "    <tr>\n",
       "      <th>2</th>\n",
       "      <td>&lt;p class='corona19_no'&gt;39998&lt;/p&gt;</td>\n",
       "      <td>128347</td>\n",
       "      <td>2021-05-11</td>\n",
       "      <td>강북구</td>\n",
       "      <td>-</td>\n",
       "      <td>기타 확진자 접촉</td>\n",
       "      <td>&lt;b class='status1'&gt;퇴원&lt;/b&gt;</td>\n",
       "    </tr>\n",
       "    <tr>\n",
       "      <th>3</th>\n",
       "      <td>&lt;p class='corona19_no'&gt;39997&lt;/p&gt;</td>\n",
       "      <td>128724</td>\n",
       "      <td>2021-05-11</td>\n",
       "      <td>강남구</td>\n",
       "      <td>-</td>\n",
       "      <td>기타 확진자 접촉</td>\n",
       "      <td>&lt;b class='status1'&gt;퇴원&lt;/b&gt;</td>\n",
       "    </tr>\n",
       "    <tr>\n",
       "      <th>4</th>\n",
       "      <td>&lt;p class='corona19_no'&gt;39996&lt;/p&gt;</td>\n",
       "      <td>128478</td>\n",
       "      <td>2021-05-11</td>\n",
       "      <td>양천구</td>\n",
       "      <td>-</td>\n",
       "      <td>감염경로 조사중</td>\n",
       "      <td>&lt;b class='status1'&gt;퇴원&lt;/b&gt;</td>\n",
       "    </tr>\n",
       "  </tbody>\n",
       "</table>\n",
       "</div>"
      ],
      "text/plain": [
       "                                 연번      환자         확진일  거주지 여행력  \\\n",
       "0  <p class='corona19_no'>40000</p>  128607  2021-05-11  서초구   -   \n",
       "1  <p class='corona19_no'>39999</p>  128576  2021-05-11  양천구   -   \n",
       "2  <p class='corona19_no'>39998</p>  128347  2021-05-11  강북구   -   \n",
       "3  <p class='corona19_no'>39997</p>  128724  2021-05-11  강남구   -   \n",
       "4  <p class='corona19_no'>39996</p>  128478  2021-05-11  양천구   -   \n",
       "\n",
       "                    접촉력                       퇴원현황  \n",
       "0             기타 확진자 접촉  <b class='status1'>퇴원</b>  \n",
       "1  양천구 소재 직장 관련('21.5.)  <b class='status1'>퇴원</b>  \n",
       "2             기타 확진자 접촉  <b class='status1'>퇴원</b>  \n",
       "3             기타 확진자 접촉  <b class='status1'>퇴원</b>  \n",
       "4              감염경로 조사중  <b class='status1'>퇴원</b>  "
      ]
     },
     "execution_count": 25,
     "metadata": {},
     "output_type": "execute_result"
    }
   ],
   "source": [
    "df_all.head()"
   ]
  },
  {
   "cell_type": "markdown",
   "metadata": {},
   "source": [
    "# 데이터 전처리"
   ]
  },
  {
   "cell_type": "code",
   "execution_count": 26,
   "metadata": {},
   "outputs": [],
   "source": [
    "import re"
   ]
  },
  {
   "cell_type": "code",
   "execution_count": 27,
   "metadata": {},
   "outputs": [],
   "source": [
    "def extract_number(num_string):\n",
    "    if type(num_string) == str:\n",
    "        num_string = num_string.replace(\"corona19\", \"\")\n",
    "        num = re.sub(\"[^0-9]\", \"\", num_string)\n",
    "        num = int(num)\n",
    "        return num\n",
    "    else:\n",
    "        return num_string"
   ]
  },
  {
   "cell_type": "code",
   "execution_count": 28,
   "metadata": {
    "scrolled": true
   },
   "outputs": [
    {
     "data": {
      "text/plain": [
       "7625"
      ]
     },
     "execution_count": 28,
     "metadata": {},
     "output_type": "execute_result"
    }
   ],
   "source": [
    "#테스트\n",
    "num_string = \"<p class='corona19_no'>7625</p>\"\n",
    "extract_number(num_string)"
   ]
  },
  {
   "cell_type": "code",
   "execution_count": 29,
   "metadata": {},
   "outputs": [],
   "source": [
    "df_all['연번'] = df_all['연번'].map(extract_number)"
   ]
  },
  {
   "cell_type": "code",
   "execution_count": 30,
   "metadata": {},
   "outputs": [
    {
     "data": {
      "text/plain": [
       "0    40000\n",
       "1    39999\n",
       "2    39998\n",
       "3    39997\n",
       "4    39996\n",
       "Name: 연번, dtype: int64"
      ]
     },
     "execution_count": 30,
     "metadata": {},
     "output_type": "execute_result"
    }
   ],
   "source": [
    "df_all['연번'].head()"
   ]
  },
  {
   "cell_type": "code",
   "execution_count": 31,
   "metadata": {},
   "outputs": [],
   "source": [
    "def extract_hanguel(origin_text):\n",
    "    subtract_text = re.sub(\"[^가-힣]\", \"\", origin_text)\n",
    "    return subtract_text"
   ]
  },
  {
   "cell_type": "code",
   "execution_count": 32,
   "metadata": {},
   "outputs": [],
   "source": [
    "df_all['퇴원현황'] = df_all['퇴원현황'].map(extract_hanguel)"
   ]
  },
  {
   "cell_type": "code",
   "execution_count": 33,
   "metadata": {},
   "outputs": [
    {
     "data": {
      "text/plain": [
       "0    퇴원\n",
       "1    퇴원\n",
       "2    퇴원\n",
       "3    퇴원\n",
       "4    퇴원\n",
       "Name: 퇴원현황, dtype: object"
      ]
     },
     "execution_count": 33,
     "metadata": {},
     "output_type": "execute_result"
    }
   ],
   "source": [
    "df_all['퇴원현황'].head()"
   ]
  },
  {
   "cell_type": "code",
   "execution_count": 34,
   "metadata": {},
   "outputs": [
    {
     "data": {
      "text/html": [
       "<div>\n",
       "<style scoped>\n",
       "    .dataframe tbody tr th:only-of-type {\n",
       "        vertical-align: middle;\n",
       "    }\n",
       "\n",
       "    .dataframe tbody tr th {\n",
       "        vertical-align: top;\n",
       "    }\n",
       "\n",
       "    .dataframe thead th {\n",
       "        text-align: right;\n",
       "    }\n",
       "</style>\n",
       "<table border=\"1\" class=\"dataframe\">\n",
       "  <thead>\n",
       "    <tr style=\"text-align: right;\">\n",
       "      <th></th>\n",
       "      <th>연번</th>\n",
       "      <th>환자</th>\n",
       "      <th>확진일</th>\n",
       "      <th>거주지</th>\n",
       "      <th>여행력</th>\n",
       "      <th>접촉력</th>\n",
       "      <th>퇴원현황</th>\n",
       "    </tr>\n",
       "  </thead>\n",
       "  <tbody>\n",
       "    <tr>\n",
       "      <th>0</th>\n",
       "      <td>40000</td>\n",
       "      <td>128607</td>\n",
       "      <td>2021-05-11</td>\n",
       "      <td>서초구</td>\n",
       "      <td>-</td>\n",
       "      <td>기타 확진자 접촉</td>\n",
       "      <td>퇴원</td>\n",
       "    </tr>\n",
       "    <tr>\n",
       "      <th>1</th>\n",
       "      <td>39999</td>\n",
       "      <td>128576</td>\n",
       "      <td>2021-05-11</td>\n",
       "      <td>양천구</td>\n",
       "      <td>-</td>\n",
       "      <td>양천구 소재 직장 관련('21.5.)</td>\n",
       "      <td>퇴원</td>\n",
       "    </tr>\n",
       "    <tr>\n",
       "      <th>2</th>\n",
       "      <td>39998</td>\n",
       "      <td>128347</td>\n",
       "      <td>2021-05-11</td>\n",
       "      <td>강북구</td>\n",
       "      <td>-</td>\n",
       "      <td>기타 확진자 접촉</td>\n",
       "      <td>퇴원</td>\n",
       "    </tr>\n",
       "    <tr>\n",
       "      <th>3</th>\n",
       "      <td>39997</td>\n",
       "      <td>128724</td>\n",
       "      <td>2021-05-11</td>\n",
       "      <td>강남구</td>\n",
       "      <td>-</td>\n",
       "      <td>기타 확진자 접촉</td>\n",
       "      <td>퇴원</td>\n",
       "    </tr>\n",
       "    <tr>\n",
       "      <th>4</th>\n",
       "      <td>39996</td>\n",
       "      <td>128478</td>\n",
       "      <td>2021-05-11</td>\n",
       "      <td>양천구</td>\n",
       "      <td>-</td>\n",
       "      <td>감염경로 조사중</td>\n",
       "      <td>퇴원</td>\n",
       "    </tr>\n",
       "  </tbody>\n",
       "</table>\n",
       "</div>"
      ],
      "text/plain": [
       "      연번      환자         확진일  거주지 여행력                   접촉력 퇴원현황\n",
       "0  40000  128607  2021-05-11  서초구   -             기타 확진자 접촉   퇴원\n",
       "1  39999  128576  2021-05-11  양천구   -  양천구 소재 직장 관련('21.5.)   퇴원\n",
       "2  39998  128347  2021-05-11  강북구   -             기타 확진자 접촉   퇴원\n",
       "3  39997  128724  2021-05-11  강남구   -             기타 확진자 접촉   퇴원\n",
       "4  39996  128478  2021-05-11  양천구   -              감염경로 조사중   퇴원"
      ]
     },
     "execution_count": 34,
     "metadata": {},
     "output_type": "execute_result"
    }
   ],
   "source": [
    "df_all.head()"
   ]
  },
  {
   "cell_type": "code",
   "execution_count": 35,
   "metadata": {},
   "outputs": [
    {
     "data": {
      "text/plain": [
       "연번       int64\n",
       "환자      object\n",
       "확진일     object\n",
       "거주지     object\n",
       "여행력     object\n",
       "접촉력     object\n",
       "퇴원현황    object\n",
       "dtype: object"
      ]
     },
     "execution_count": 35,
     "metadata": {},
     "output_type": "execute_result"
    }
   ],
   "source": [
    "df_all.dtypes"
   ]
  },
  {
   "cell_type": "code",
   "execution_count": 36,
   "metadata": {},
   "outputs": [],
   "source": [
    "df_all['확진일'] = pd.to_datetime(df_all['확진일'])"
   ]
  },
  {
   "cell_type": "code",
   "execution_count": 54,
   "metadata": {},
   "outputs": [],
   "source": [
    "df_6_30 = df_all[df_all.확진일 <= '2020-6-30']"
   ]
  },
  {
   "cell_type": "code",
   "execution_count": 55,
   "metadata": {
    "scrolled": true
   },
   "outputs": [
    {
     "name": "stderr",
     "output_type": "stream",
     "text": [
      "<ipython-input-55-21f5d0963399>:1: SettingWithCopyWarning: \n",
      "A value is trying to be set on a copy of a slice from a DataFrame.\n",
      "Try using .loc[row_indexer,col_indexer] = value instead\n",
      "\n",
      "See the caveats in the documentation: https://pandas.pydata.org/pandas-docs/stable/user_guide/indexing.html#returning-a-view-versus-a-copy\n",
      "  df_6_30['확진일'] = df_6_30.loc[:,'확진일'].apply(lambda x: x.strftime('%Y-%m-%d'))\n"
     ]
    }
   ],
   "source": [
    "df_6_30['확진일'] = df_6_30.loc[:,'확진일'].apply(lambda x: x.strftime('%Y-%m-%d'))"
   ]
  },
  {
   "cell_type": "code",
   "execution_count": 56,
   "metadata": {
    "scrolled": true
   },
   "outputs": [
    {
     "data": {
      "text/html": [
       "<div>\n",
       "<style scoped>\n",
       "    .dataframe tbody tr th:only-of-type {\n",
       "        vertical-align: middle;\n",
       "    }\n",
       "\n",
       "    .dataframe tbody tr th {\n",
       "        vertical-align: top;\n",
       "    }\n",
       "\n",
       "    .dataframe thead th {\n",
       "        text-align: right;\n",
       "    }\n",
       "</style>\n",
       "<table border=\"1\" class=\"dataframe\">\n",
       "  <thead>\n",
       "    <tr style=\"text-align: right;\">\n",
       "      <th></th>\n",
       "      <th>연번</th>\n",
       "      <th>환자</th>\n",
       "      <th>확진일</th>\n",
       "      <th>거주지</th>\n",
       "      <th>여행력</th>\n",
       "      <th>접촉력</th>\n",
       "      <th>퇴원현황</th>\n",
       "    </tr>\n",
       "  </thead>\n",
       "  <tbody>\n",
       "    <tr>\n",
       "      <th>76</th>\n",
       "      <td>1324</td>\n",
       "      <td>12856</td>\n",
       "      <td>2020-06-30</td>\n",
       "      <td>서초구</td>\n",
       "      <td>-</td>\n",
       "      <td>강남역삼동금융회사</td>\n",
       "      <td>퇴원</td>\n",
       "    </tr>\n",
       "    <tr>\n",
       "      <th>79</th>\n",
       "      <td>1321</td>\n",
       "      <td>12830</td>\n",
       "      <td>2020-06-30</td>\n",
       "      <td>영등포구</td>\n",
       "      <td>-</td>\n",
       "      <td>기타 확진자 접촉</td>\n",
       "      <td>퇴원</td>\n",
       "    </tr>\n",
       "    <tr>\n",
       "      <th>80</th>\n",
       "      <td>1320</td>\n",
       "      <td>12829</td>\n",
       "      <td>2020-06-30</td>\n",
       "      <td>관악구</td>\n",
       "      <td>-</td>\n",
       "      <td>감염경로 조사중</td>\n",
       "      <td>퇴원</td>\n",
       "    </tr>\n",
       "    <tr>\n",
       "      <th>81</th>\n",
       "      <td>1319</td>\n",
       "      <td>12831</td>\n",
       "      <td>2020-06-30</td>\n",
       "      <td>영등포구</td>\n",
       "      <td>-</td>\n",
       "      <td>감염경로 조사중</td>\n",
       "      <td>퇴원</td>\n",
       "    </tr>\n",
       "    <tr>\n",
       "      <th>82</th>\n",
       "      <td>1318</td>\n",
       "      <td>12808</td>\n",
       "      <td>2020-06-30</td>\n",
       "      <td>관악구</td>\n",
       "      <td>-</td>\n",
       "      <td>강남구 역삼동 모임</td>\n",
       "      <td>퇴원</td>\n",
       "    </tr>\n",
       "  </tbody>\n",
       "</table>\n",
       "</div>"
      ],
      "text/plain": [
       "      연번     환자         확진일   거주지 여행력          접촉력 퇴원현황\n",
       "76  1324  12856  2020-06-30   서초구   -    강남역삼동금융회사   퇴원\n",
       "79  1321  12830  2020-06-30  영등포구   -    기타 확진자 접촉   퇴원\n",
       "80  1320  12829  2020-06-30   관악구   -     감염경로 조사중   퇴원\n",
       "81  1319  12831  2020-06-30  영등포구   -     감염경로 조사중   퇴원\n",
       "82  1318  12808  2020-06-30   관악구   -  강남구 역삼동 모임    퇴원"
      ]
     },
     "execution_count": 56,
     "metadata": {},
     "output_type": "execute_result"
    }
   ],
   "source": [
    "df_6_30.head()"
   ]
  },
  {
   "cell_type": "code",
   "execution_count": 57,
   "metadata": {},
   "outputs": [
    {
     "data": {
      "text/plain": [
       "'2020-06-30'"
      ]
     },
     "execution_count": 57,
     "metadata": {},
     "output_type": "execute_result"
    }
   ],
   "source": [
    "last_date = df_6_30.iloc[0]['확진일']\n",
    "last_date"
   ]
  },
  {
   "cell_type": "code",
   "execution_count": 58,
   "metadata": {},
   "outputs": [
    {
     "data": {
      "text/plain": [
       "'seoul-covid19-2020-06-30.csv'"
      ]
     },
     "execution_count": 58,
     "metadata": {},
     "output_type": "execute_result"
    }
   ],
   "source": [
    "file_name = f\"seoul-covid19-{last_date}.csv\"\n",
    "file_name"
   ]
  },
  {
   "cell_type": "code",
   "execution_count": 59,
   "metadata": {},
   "outputs": [],
   "source": [
    "df_6_30.to_csv(file_name, index=False)"
   ]
  },
  {
   "cell_type": "code",
   "execution_count": 60,
   "metadata": {},
   "outputs": [
    {
     "data": {
      "text/html": [
       "<div>\n",
       "<style scoped>\n",
       "    .dataframe tbody tr th:only-of-type {\n",
       "        vertical-align: middle;\n",
       "    }\n",
       "\n",
       "    .dataframe tbody tr th {\n",
       "        vertical-align: top;\n",
       "    }\n",
       "\n",
       "    .dataframe thead th {\n",
       "        text-align: right;\n",
       "    }\n",
       "</style>\n",
       "<table border=\"1\" class=\"dataframe\">\n",
       "  <thead>\n",
       "    <tr style=\"text-align: right;\">\n",
       "      <th></th>\n",
       "      <th>연번</th>\n",
       "      <th>환자</th>\n",
       "      <th>확진일</th>\n",
       "      <th>거주지</th>\n",
       "      <th>여행력</th>\n",
       "      <th>접촉력</th>\n",
       "      <th>퇴원현황</th>\n",
       "    </tr>\n",
       "  </thead>\n",
       "  <tbody>\n",
       "    <tr>\n",
       "      <th>0</th>\n",
       "      <td>1324</td>\n",
       "      <td>12856</td>\n",
       "      <td>2020-06-30</td>\n",
       "      <td>서초구</td>\n",
       "      <td>-</td>\n",
       "      <td>강남역삼동금융회사</td>\n",
       "      <td>퇴원</td>\n",
       "    </tr>\n",
       "    <tr>\n",
       "      <th>1</th>\n",
       "      <td>1321</td>\n",
       "      <td>12830</td>\n",
       "      <td>2020-06-30</td>\n",
       "      <td>영등포구</td>\n",
       "      <td>-</td>\n",
       "      <td>기타 확진자 접촉</td>\n",
       "      <td>퇴원</td>\n",
       "    </tr>\n",
       "    <tr>\n",
       "      <th>2</th>\n",
       "      <td>1320</td>\n",
       "      <td>12829</td>\n",
       "      <td>2020-06-30</td>\n",
       "      <td>관악구</td>\n",
       "      <td>-</td>\n",
       "      <td>감염경로 조사중</td>\n",
       "      <td>퇴원</td>\n",
       "    </tr>\n",
       "    <tr>\n",
       "      <th>3</th>\n",
       "      <td>1319</td>\n",
       "      <td>12831</td>\n",
       "      <td>2020-06-30</td>\n",
       "      <td>영등포구</td>\n",
       "      <td>-</td>\n",
       "      <td>감염경로 조사중</td>\n",
       "      <td>퇴원</td>\n",
       "    </tr>\n",
       "    <tr>\n",
       "      <th>4</th>\n",
       "      <td>1318</td>\n",
       "      <td>12808</td>\n",
       "      <td>2020-06-30</td>\n",
       "      <td>관악구</td>\n",
       "      <td>-</td>\n",
       "      <td>강남구 역삼동 모임</td>\n",
       "      <td>퇴원</td>\n",
       "    </tr>\n",
       "    <tr>\n",
       "      <th>...</th>\n",
       "      <td>...</td>\n",
       "      <td>...</td>\n",
       "      <td>...</td>\n",
       "      <td>...</td>\n",
       "      <td>...</td>\n",
       "      <td>...</td>\n",
       "      <td>...</td>\n",
       "    </tr>\n",
       "    <tr>\n",
       "      <th>1317</th>\n",
       "      <td>5</td>\n",
       "      <td>9</td>\n",
       "      <td>2020-01-31</td>\n",
       "      <td>성북구</td>\n",
       "      <td>-</td>\n",
       "      <td>기타 확진자 접촉</td>\n",
       "      <td>퇴원</td>\n",
       "    </tr>\n",
       "    <tr>\n",
       "      <th>1318</th>\n",
       "      <td>4</td>\n",
       "      <td>7</td>\n",
       "      <td>2020-01-30</td>\n",
       "      <td>마포구</td>\n",
       "      <td>중국</td>\n",
       "      <td>해외유입</td>\n",
       "      <td>퇴원</td>\n",
       "    </tr>\n",
       "    <tr>\n",
       "      <th>1319</th>\n",
       "      <td>3</td>\n",
       "      <td>6</td>\n",
       "      <td>2020-01-30</td>\n",
       "      <td>종로구</td>\n",
       "      <td>-</td>\n",
       "      <td>종로구 집단발병</td>\n",
       "      <td>퇴원</td>\n",
       "    </tr>\n",
       "    <tr>\n",
       "      <th>1320</th>\n",
       "      <td>2</td>\n",
       "      <td>5</td>\n",
       "      <td>2020-01-30</td>\n",
       "      <td>중랑구</td>\n",
       "      <td>중국</td>\n",
       "      <td>해외유입</td>\n",
       "      <td>퇴원</td>\n",
       "    </tr>\n",
       "    <tr>\n",
       "      <th>1321</th>\n",
       "      <td>1</td>\n",
       "      <td>2</td>\n",
       "      <td>2020-01-24</td>\n",
       "      <td>강서구</td>\n",
       "      <td>중국</td>\n",
       "      <td>해외유입</td>\n",
       "      <td>퇴원</td>\n",
       "    </tr>\n",
       "  </tbody>\n",
       "</table>\n",
       "<p>1322 rows × 7 columns</p>\n",
       "</div>"
      ],
      "text/plain": [
       "        연번     환자         확진일   거주지 여행력          접촉력 퇴원현황\n",
       "0     1324  12856  2020-06-30   서초구   -    강남역삼동금융회사   퇴원\n",
       "1     1321  12830  2020-06-30  영등포구   -    기타 확진자 접촉   퇴원\n",
       "2     1320  12829  2020-06-30   관악구   -     감염경로 조사중   퇴원\n",
       "3     1319  12831  2020-06-30  영등포구   -     감염경로 조사중   퇴원\n",
       "4     1318  12808  2020-06-30   관악구   -  강남구 역삼동 모임    퇴원\n",
       "...    ...    ...         ...   ...  ..          ...  ...\n",
       "1317     5      9  2020-01-31   성북구   -    기타 확진자 접촉   퇴원\n",
       "1318     4      7  2020-01-30   마포구  중국         해외유입   퇴원\n",
       "1319     3      6  2020-01-30   종로구   -     종로구 집단발병   퇴원\n",
       "1320     2      5  2020-01-30   중랑구  중국         해외유입   퇴원\n",
       "1321     1      2  2020-01-24   강서구  중국         해외유입   퇴원\n",
       "\n",
       "[1322 rows x 7 columns]"
      ]
     },
     "execution_count": 60,
     "metadata": {},
     "output_type": "execute_result"
    }
   ],
   "source": [
    "pd.read_csv(file_name)"
   ]
  },
  {
   "cell_type": "markdown",
   "metadata": {},
   "source": [
    "# 데이터 분석"
   ]
  },
  {
   "cell_type": "code",
   "execution_count": 61,
   "metadata": {},
   "outputs": [],
   "source": [
    "df_6_30 = df_6_30.sort_values(by=\"연번\", ascending=False)"
   ]
  },
  {
   "cell_type": "code",
   "execution_count": 62,
   "metadata": {},
   "outputs": [
    {
     "data": {
      "text/html": [
       "<div>\n",
       "<style scoped>\n",
       "    .dataframe tbody tr th:only-of-type {\n",
       "        vertical-align: middle;\n",
       "    }\n",
       "\n",
       "    .dataframe tbody tr th {\n",
       "        vertical-align: top;\n",
       "    }\n",
       "\n",
       "    .dataframe thead th {\n",
       "        text-align: right;\n",
       "    }\n",
       "</style>\n",
       "<table border=\"1\" class=\"dataframe\">\n",
       "  <thead>\n",
       "    <tr style=\"text-align: right;\">\n",
       "      <th></th>\n",
       "      <th>연번</th>\n",
       "      <th>환자</th>\n",
       "      <th>확진일</th>\n",
       "      <th>거주지</th>\n",
       "      <th>여행력</th>\n",
       "      <th>접촉력</th>\n",
       "      <th>퇴원현황</th>\n",
       "    </tr>\n",
       "  </thead>\n",
       "  <tbody>\n",
       "    <tr>\n",
       "      <th>76</th>\n",
       "      <td>1324</td>\n",
       "      <td>12856</td>\n",
       "      <td>2020-06-30</td>\n",
       "      <td>서초구</td>\n",
       "      <td>-</td>\n",
       "      <td>강남역삼동금융회사</td>\n",
       "      <td>퇴원</td>\n",
       "    </tr>\n",
       "    <tr>\n",
       "      <th>79</th>\n",
       "      <td>1321</td>\n",
       "      <td>12830</td>\n",
       "      <td>2020-06-30</td>\n",
       "      <td>영등포구</td>\n",
       "      <td>-</td>\n",
       "      <td>기타 확진자 접촉</td>\n",
       "      <td>퇴원</td>\n",
       "    </tr>\n",
       "    <tr>\n",
       "      <th>80</th>\n",
       "      <td>1320</td>\n",
       "      <td>12829</td>\n",
       "      <td>2020-06-30</td>\n",
       "      <td>관악구</td>\n",
       "      <td>-</td>\n",
       "      <td>감염경로 조사중</td>\n",
       "      <td>퇴원</td>\n",
       "    </tr>\n",
       "    <tr>\n",
       "      <th>81</th>\n",
       "      <td>1319</td>\n",
       "      <td>12831</td>\n",
       "      <td>2020-06-30</td>\n",
       "      <td>영등포구</td>\n",
       "      <td>-</td>\n",
       "      <td>감염경로 조사중</td>\n",
       "      <td>퇴원</td>\n",
       "    </tr>\n",
       "    <tr>\n",
       "      <th>82</th>\n",
       "      <td>1318</td>\n",
       "      <td>12808</td>\n",
       "      <td>2020-06-30</td>\n",
       "      <td>관악구</td>\n",
       "      <td>-</td>\n",
       "      <td>강남구 역삼동 모임</td>\n",
       "      <td>퇴원</td>\n",
       "    </tr>\n",
       "  </tbody>\n",
       "</table>\n",
       "</div>"
      ],
      "text/plain": [
       "      연번     환자         확진일   거주지 여행력          접촉력 퇴원현황\n",
       "76  1324  12856  2020-06-30   서초구   -    강남역삼동금융회사   퇴원\n",
       "79  1321  12830  2020-06-30  영등포구   -    기타 확진자 접촉   퇴원\n",
       "80  1320  12829  2020-06-30   관악구   -     감염경로 조사중   퇴원\n",
       "81  1319  12831  2020-06-30  영등포구   -     감염경로 조사중   퇴원\n",
       "82  1318  12808  2020-06-30   관악구   -  강남구 역삼동 모임    퇴원"
      ]
     },
     "execution_count": 62,
     "metadata": {},
     "output_type": "execute_result"
    }
   ],
   "source": [
    "df_6_30.head()"
   ]
  },
  {
   "cell_type": "code",
   "execution_count": 65,
   "metadata": {
    "scrolled": true
   },
   "outputs": [
    {
     "data": {
      "text/html": [
       "<div>\n",
       "<style scoped>\n",
       "    .dataframe tbody tr th:only-of-type {\n",
       "        vertical-align: middle;\n",
       "    }\n",
       "\n",
       "    .dataframe tbody tr th {\n",
       "        vertical-align: top;\n",
       "    }\n",
       "\n",
       "    .dataframe thead th {\n",
       "        text-align: right;\n",
       "    }\n",
       "</style>\n",
       "<table border=\"1\" class=\"dataframe\">\n",
       "  <thead>\n",
       "    <tr style=\"text-align: right;\">\n",
       "      <th></th>\n",
       "      <th>연번</th>\n",
       "      <th>환자</th>\n",
       "      <th>확진일</th>\n",
       "      <th>거주지</th>\n",
       "      <th>여행력</th>\n",
       "      <th>접촉력</th>\n",
       "      <th>퇴원현황</th>\n",
       "    </tr>\n",
       "  </thead>\n",
       "  <tbody>\n",
       "    <tr>\n",
       "      <th>0</th>\n",
       "      <td>1324</td>\n",
       "      <td>12856</td>\n",
       "      <td>2020-06-30</td>\n",
       "      <td>서초구</td>\n",
       "      <td>-</td>\n",
       "      <td>강남역삼동금융회사</td>\n",
       "      <td>퇴원</td>\n",
       "    </tr>\n",
       "    <tr>\n",
       "      <th>1</th>\n",
       "      <td>1321</td>\n",
       "      <td>12830</td>\n",
       "      <td>2020-06-30</td>\n",
       "      <td>영등포구</td>\n",
       "      <td>-</td>\n",
       "      <td>기타 확진자 접촉</td>\n",
       "      <td>퇴원</td>\n",
       "    </tr>\n",
       "    <tr>\n",
       "      <th>2</th>\n",
       "      <td>1320</td>\n",
       "      <td>12829</td>\n",
       "      <td>2020-06-30</td>\n",
       "      <td>관악구</td>\n",
       "      <td>-</td>\n",
       "      <td>감염경로 조사중</td>\n",
       "      <td>퇴원</td>\n",
       "    </tr>\n",
       "    <tr>\n",
       "      <th>3</th>\n",
       "      <td>1319</td>\n",
       "      <td>12831</td>\n",
       "      <td>2020-06-30</td>\n",
       "      <td>영등포구</td>\n",
       "      <td>-</td>\n",
       "      <td>감염경로 조사중</td>\n",
       "      <td>퇴원</td>\n",
       "    </tr>\n",
       "    <tr>\n",
       "      <th>4</th>\n",
       "      <td>1318</td>\n",
       "      <td>12808</td>\n",
       "      <td>2020-06-30</td>\n",
       "      <td>관악구</td>\n",
       "      <td>-</td>\n",
       "      <td>강남구 역삼동 모임</td>\n",
       "      <td>퇴원</td>\n",
       "    </tr>\n",
       "  </tbody>\n",
       "</table>\n",
       "</div>"
      ],
      "text/plain": [
       "     연번     환자         확진일   거주지 여행력          접촉력 퇴원현황\n",
       "0  1324  12856  2020-06-30   서초구   -    강남역삼동금융회사   퇴원\n",
       "1  1321  12830  2020-06-30  영등포구   -    기타 확진자 접촉   퇴원\n",
       "2  1320  12829  2020-06-30   관악구   -     감염경로 조사중   퇴원\n",
       "3  1319  12831  2020-06-30  영등포구   -     감염경로 조사중   퇴원\n",
       "4  1318  12808  2020-06-30   관악구   -  강남구 역삼동 모임    퇴원"
      ]
     },
     "execution_count": 65,
     "metadata": {},
     "output_type": "execute_result"
    }
   ],
   "source": [
    "df_6_30 = df_6_30.reset_index(drop=True)\n",
    "df_6_30.head()"
   ]
  },
  {
   "cell_type": "code",
   "execution_count": 66,
   "metadata": {},
   "outputs": [
    {
     "data": {
      "text/html": [
       "<div>\n",
       "<style scoped>\n",
       "    .dataframe tbody tr th:only-of-type {\n",
       "        vertical-align: middle;\n",
       "    }\n",
       "\n",
       "    .dataframe tbody tr th {\n",
       "        vertical-align: top;\n",
       "    }\n",
       "\n",
       "    .dataframe thead th {\n",
       "        text-align: right;\n",
       "    }\n",
       "</style>\n",
       "<table border=\"1\" class=\"dataframe\">\n",
       "  <thead>\n",
       "    <tr style=\"text-align: right;\">\n",
       "      <th></th>\n",
       "      <th>연번</th>\n",
       "      <th>환자</th>\n",
       "      <th>확진일</th>\n",
       "      <th>거주지</th>\n",
       "      <th>여행력</th>\n",
       "      <th>접촉력</th>\n",
       "      <th>퇴원현황</th>\n",
       "    </tr>\n",
       "  </thead>\n",
       "  <tbody>\n",
       "    <tr>\n",
       "      <th>1317</th>\n",
       "      <td>5</td>\n",
       "      <td>9</td>\n",
       "      <td>2020-01-31</td>\n",
       "      <td>성북구</td>\n",
       "      <td>-</td>\n",
       "      <td>기타 확진자 접촉</td>\n",
       "      <td>퇴원</td>\n",
       "    </tr>\n",
       "    <tr>\n",
       "      <th>1318</th>\n",
       "      <td>4</td>\n",
       "      <td>7</td>\n",
       "      <td>2020-01-30</td>\n",
       "      <td>마포구</td>\n",
       "      <td>중국</td>\n",
       "      <td>해외유입</td>\n",
       "      <td>퇴원</td>\n",
       "    </tr>\n",
       "    <tr>\n",
       "      <th>1319</th>\n",
       "      <td>3</td>\n",
       "      <td>6</td>\n",
       "      <td>2020-01-30</td>\n",
       "      <td>종로구</td>\n",
       "      <td>-</td>\n",
       "      <td>종로구 집단발병</td>\n",
       "      <td>퇴원</td>\n",
       "    </tr>\n",
       "    <tr>\n",
       "      <th>1320</th>\n",
       "      <td>2</td>\n",
       "      <td>5</td>\n",
       "      <td>2020-01-30</td>\n",
       "      <td>중랑구</td>\n",
       "      <td>중국</td>\n",
       "      <td>해외유입</td>\n",
       "      <td>퇴원</td>\n",
       "    </tr>\n",
       "    <tr>\n",
       "      <th>1321</th>\n",
       "      <td>1</td>\n",
       "      <td>2</td>\n",
       "      <td>2020-01-24</td>\n",
       "      <td>강서구</td>\n",
       "      <td>중국</td>\n",
       "      <td>해외유입</td>\n",
       "      <td>퇴원</td>\n",
       "    </tr>\n",
       "  </tbody>\n",
       "</table>\n",
       "</div>"
      ],
      "text/plain": [
       "      연번 환자         확진일  거주지 여행력        접촉력 퇴원현황\n",
       "1317   5  9  2020-01-31  성북구   -  기타 확진자 접촉   퇴원\n",
       "1318   4  7  2020-01-30  마포구  중국       해외유입   퇴원\n",
       "1319   3  6  2020-01-30  종로구   -   종로구 집단발병   퇴원\n",
       "1320   2  5  2020-01-30  중랑구  중국       해외유입   퇴원\n",
       "1321   1  2  2020-01-24  강서구  중국       해외유입   퇴원"
      ]
     },
     "execution_count": 66,
     "metadata": {},
     "output_type": "execute_result"
    }
   ],
   "source": [
    "df_6_30.tail()"
   ]
  },
  {
   "cell_type": "code",
   "execution_count": 70,
   "metadata": {
    "scrolled": true
   },
   "outputs": [],
   "source": [
    "import matplotlib.pyplot as plt\n",
    "# 한글 폰트\n",
    "plt.rc(\"font\", family='AppleGothic')\n",
    "# 윈도우일때는 family='Malgun Gothic'\n",
    "\n",
    "# 마이너스 기호\n",
    "plt.rc(\"axes\", unicode_minus=False)\n",
    "\n",
    "# 스타일\n",
    "plt.style.use('fivethirtyeight')"
   ]
  },
  {
   "cell_type": "code",
   "execution_count": 68,
   "metadata": {},
   "outputs": [],
   "source": [
    "# 레티나 해상도 적용\n",
    "from IPython.display import set_matplotlib_formats\n",
    "set_matplotlib_formats(\"retina\")"
   ]
  },
  {
   "cell_type": "markdown",
   "metadata": {},
   "source": [
    "# 3 확진일"
   ]
  },
  {
   "cell_type": "code",
   "execution_count": 80,
   "metadata": {},
   "outputs": [
    {
     "data": {
      "text/plain": [
       "2020-03-10    46\n",
       "2020-06-12    30\n",
       "2020-06-06    29\n",
       "2020-06-05    28\n",
       "2020-03-09    26\n",
       "              ..\n",
       "2020-04-30     1\n",
       "2020-04-19     1\n",
       "2020-05-01     1\n",
       "2020-04-24     1\n",
       "2020-05-17     1\n",
       "Name: 확진일, Length: 127, dtype: int64"
      ]
     },
     "execution_count": 80,
     "metadata": {},
     "output_type": "execute_result"
    }
   ],
   "source": [
    "df_6_30[\"확진일\"].value_counts()"
   ]
  },
  {
   "cell_type": "code",
   "execution_count": 81,
   "metadata": {},
   "outputs": [],
   "source": [
    "df_6_30['확진일'] = pd.to_datetime(df_6_30['확진일'])"
   ]
  },
  {
   "cell_type": "code",
   "execution_count": 82,
   "metadata": {},
   "outputs": [],
   "source": [
    "# 월 추출\n",
    "df_6_30['월'] = df_6_30['확진일'].dt.month"
   ]
  },
  {
   "cell_type": "code",
   "execution_count": 83,
   "metadata": {},
   "outputs": [
    {
     "name": "stderr",
     "output_type": "stream",
     "text": [
      "<ipython-input-83-2f279438bf1d>:2: FutureWarning: Series.dt.weekofyear and Series.dt.week have been deprecated.  Please use Series.dt.isocalendar().week instead.\n",
      "  df_6_30['주'] = df_6_30['확진일'].dt.week\n"
     ]
    },
    {
     "data": {
      "text/html": [
       "<div>\n",
       "<style scoped>\n",
       "    .dataframe tbody tr th:only-of-type {\n",
       "        vertical-align: middle;\n",
       "    }\n",
       "\n",
       "    .dataframe tbody tr th {\n",
       "        vertical-align: top;\n",
       "    }\n",
       "\n",
       "    .dataframe thead th {\n",
       "        text-align: right;\n",
       "    }\n",
       "</style>\n",
       "<table border=\"1\" class=\"dataframe\">\n",
       "  <thead>\n",
       "    <tr style=\"text-align: right;\">\n",
       "      <th></th>\n",
       "      <th>확진일</th>\n",
       "      <th>월</th>\n",
       "      <th>주</th>\n",
       "    </tr>\n",
       "  </thead>\n",
       "  <tbody>\n",
       "    <tr>\n",
       "      <th>0</th>\n",
       "      <td>2020-06-30</td>\n",
       "      <td>6</td>\n",
       "      <td>27</td>\n",
       "    </tr>\n",
       "    <tr>\n",
       "      <th>1</th>\n",
       "      <td>2020-06-30</td>\n",
       "      <td>6</td>\n",
       "      <td>27</td>\n",
       "    </tr>\n",
       "    <tr>\n",
       "      <th>2</th>\n",
       "      <td>2020-06-30</td>\n",
       "      <td>6</td>\n",
       "      <td>27</td>\n",
       "    </tr>\n",
       "    <tr>\n",
       "      <th>3</th>\n",
       "      <td>2020-06-30</td>\n",
       "      <td>6</td>\n",
       "      <td>27</td>\n",
       "    </tr>\n",
       "    <tr>\n",
       "      <th>4</th>\n",
       "      <td>2020-06-30</td>\n",
       "      <td>6</td>\n",
       "      <td>27</td>\n",
       "    </tr>\n",
       "  </tbody>\n",
       "</table>\n",
       "</div>"
      ],
      "text/plain": [
       "         확진일  월   주\n",
       "0 2020-06-30  6  27\n",
       "1 2020-06-30  6  27\n",
       "2 2020-06-30  6  27\n",
       "3 2020-06-30  6  27\n",
       "4 2020-06-30  6  27"
      ]
     },
     "execution_count": 83,
     "metadata": {},
     "output_type": "execute_result"
    }
   ],
   "source": [
    "# 주 추출\n",
    "df_6_30['주'] = df_6_30['확진일'].dt.week\n",
    "df_6_30[['확진일', '월', '주']].head()"
   ]
  },
  {
   "cell_type": "markdown",
   "metadata": {},
   "source": [
    "## 3.1 선그래프 그리기"
   ]
  },
  {
   "cell_type": "code",
   "execution_count": 84,
   "metadata": {
    "scrolled": true
   },
   "outputs": [
    {
     "data": {
      "text/plain": [
       "<matplotlib.lines.Line2D at 0x7fe403ed8d90>"
      ]
     },
     "execution_count": 84,
     "metadata": {},
     "output_type": "execute_result"
    },
    {
     "data": {
      "image/png": "[encoded data removed]",
      "text/plain": [
       "<Figure size 1080x288 with 1 Axes>"
      ]
     },
     "metadata": {
      "image/png": {
       "height": 257,
       "width": 976
      }
     },
     "output_type": "display_data"
    }
   ],
   "source": [
    "df_6_30['확진일'].value_counts().plot(figsize=(15, 4))\n",
    "plt.axhline(30, color='red', linestyle=':')"
   ]
  },
  {
   "cell_type": "code",
   "execution_count": 86,
   "metadata": {
    "scrolled": false
   },
   "outputs": [
    {
     "data": {
      "text/plain": [
       "<AxesSubplot:>"
      ]
     },
     "execution_count": 86,
     "metadata": {},
     "output_type": "execute_result"
    },
    {
     "data": {
      "image/png": "[encoded data removed]",
      "text/plain": [
       "<Figure size 432x288 with 1 Axes>"
      ]
     },
     "metadata": {
      "image/png": {
       "height": 264,
       "width": 422
      }
     },
     "output_type": "display_data"
    }
   ],
   "source": [
    "df_6_30['월'].value_counts().sort_index().plot()"
   ]
  },
  {
   "cell_type": "markdown",
   "metadata": {},
   "source": [
    "## 3.2 선그래프에 값 표시하기"
   ]
  },
  {
   "cell_type": "code",
   "execution_count": 87,
   "metadata": {},
   "outputs": [
    {
     "data": {
      "text/plain": [
       "<AxesSubplot:>"
      ]
     },
     "execution_count": 87,
     "metadata": {},
     "output_type": "execute_result"
    },
    {
     "data": {
      "image/png": "[encoded data removed]",
      "text/plain": [
       "<Figure size 432x288 with 1 Axes>"
      ]
     },
     "metadata": {
      "image/png": {
       "height": 264,
       "width": 412
      }
     },
     "output_type": "display_data"
    }
   ],
   "source": [
    "# '월일' 칼럼을 만들고 확진자 수대로 일자 정렬\n",
    "df_6_30['월일'] = df_6_30['확진일'].astype(str).map(lambda x : x[-5:])\n",
    "df_6_30['월일'].value_counts().plot()"
   ]
  },
  {
   "cell_type": "code",
   "execution_count": 92,
   "metadata": {},
   "outputs": [
    {
     "data": {
      "text/plain": [
       "<AxesSubplot:>"
      ]
     },
     "execution_count": 92,
     "metadata": {},
     "output_type": "execute_result"
    },
    {
     "data": {
      "image/png": "[encoded data removed]",
      "text/plain": [
       "<Figure size 1080x288 with 1 Axes>"
      ]
     },
     "metadata": {
      "image/png": {
       "height": 264,
       "width": 976
      }
     },
     "output_type": "display_data"
    }
   ],
   "source": [
    "# 시간순으로 정렬\n",
    "df_6_30['월일'].value_counts().sort_index().plot(figsize = (15, 4))"
   ]
  },
  {
   "cell_type": "code",
   "execution_count": 90,
   "metadata": {},
   "outputs": [
    {
     "data": {
      "text/plain": [
       "01-24     1\n",
       "01-30     3\n",
       "01-31     3\n",
       "02-02     1\n",
       "02-05     2\n",
       "         ..\n",
       "06-26    17\n",
       "06-27    14\n",
       "06-28     7\n",
       "06-29     8\n",
       "06-30     9\n",
       "Name: 월일, Length: 127, dtype: int64"
      ]
     },
     "execution_count": 90,
     "metadata": {},
     "output_type": "execute_result"
    }
   ],
   "source": [
    "day_count = df_6_30['월일'].value_counts().sort_index()\n",
    "day_count"
   ]
  },
  {
   "cell_type": "code",
   "execution_count": 93,
   "metadata": {},
   "outputs": [
    {
     "name": "stdout",
     "output_type": "stream",
     "text": [
      "0 1\n",
      "1 3\n",
      "2 3\n",
      "3 1\n",
      "4 2\n",
      "5 2\n",
      "6 2\n",
      "7 2\n",
      "8 5\n",
      "9 2\n",
      "10 5\n",
      "11 3\n",
      "12 4\n",
      "13 16\n",
      "14 10\n",
      "15 9\n",
      "16 12\n",
      "17 5\n",
      "18 5\n",
      "19 6\n",
      "20 7\n",
      "21 1\n",
      "22 7\n",
      "23 7\n",
      "24 10\n",
      "25 26\n",
      "26 46\n",
      "27 17\n",
      "28 12\n",
      "29 9\n",
      "30 8\n",
      "31 6\n",
      "32 11\n",
      "33 6\n",
      "34 11\n",
      "35 17\n",
      "36 17\n",
      "37 8\n",
      "38 6\n",
      "39 6\n",
      "40 13\n",
      "41 13\n",
      "42 14\n",
      "43 15\n",
      "44 22\n",
      "45 22\n",
      "46 19\n",
      "47 24\n",
      "48 16\n",
      "49 20\n",
      "50 20\n",
      "51 20\n",
      "52 10\n",
      "53 8\n",
      "54 10\n",
      "55 11\n",
      "56 5\n",
      "57 3\n",
      "58 2\n",
      "59 8\n",
      "60 3\n",
      "61 5\n",
      "62 1\n",
      "63 2\n",
      "64 2\n",
      "65 1\n",
      "66 1\n",
      "67 2\n",
      "68 1\n",
      "69 4\n",
      "70 1\n",
      "71 1\n",
      "72 2\n",
      "73 13\n",
      "74 18\n",
      "75 21\n",
      "76 11\n",
      "77 8\n",
      "78 5\n",
      "79 12\n",
      "80 6\n",
      "81 4\n",
      "82 1\n",
      "83 7\n",
      "84 9\n",
      "85 4\n",
      "86 3\n",
      "87 3\n",
      "88 6\n",
      "89 7\n",
      "90 8\n",
      "91 20\n",
      "92 24\n",
      "93 19\n",
      "94 9\n",
      "95 6\n",
      "96 2\n",
      "97 13\n",
      "98 20\n",
      "99 15\n",
      "100 14\n",
      "101 28\n",
      "102 29\n",
      "103 15\n",
      "104 18\n",
      "105 13\n",
      "106 19\n",
      "107 25\n",
      "108 30\n",
      "109 12\n",
      "110 8\n",
      "111 12\n",
      "112 12\n",
      "113 24\n",
      "114 18\n",
      "115 17\n",
      "116 14\n",
      "117 8\n",
      "118 4\n",
      "119 11\n",
      "120 8\n",
      "121 17\n",
      "122 17\n",
      "123 14\n",
      "124 7\n",
      "125 8\n",
      "126 9\n"
     ]
    }
   ],
   "source": [
    "for i in range(len(day_count)):\n",
    "    print(i, day_count.iloc[i])"
   ]
  },
  {
   "cell_type": "code",
   "execution_count": 94,
   "metadata": {},
   "outputs": [
    {
     "data": {
      "image/png": "[encoded data removed]",
      "text/plain": [
       "<Figure size 1080x288 with 1 Axes>"
      ]
     },
     "metadata": {
      "image/png": {
       "height": 265,
       "width": 976
      }
     },
     "output_type": "display_data"
    }
   ],
   "source": [
    "g = day_count.plot(figsize=(15,4))\n",
    "for i in range(len(day_count)):\n",
    "    case_count = day_count.iloc[i]\n",
    "    if case_count > 20:\n",
    "        g.text(x=i, y=case_count, s=case_count)"
   ]
  },
  {
   "cell_type": "markdown",
   "metadata": {},
   "source": [
    "## 3.3 확진자가 가장 많이 나온 날"
   ]
  },
  {
   "cell_type": "code",
   "execution_count": 23,
   "metadata": {},
   "outputs": [
    {
     "data": {
      "text/plain": [
       "count    130.000000\n",
       "mean      10.161538\n",
       "std        7.917015\n",
       "min        1.000000\n",
       "25%        4.000000\n",
       "50%        8.000000\n",
       "75%       15.000000\n",
       "max       46.000000\n",
       "Name: 월일, dtype: float64"
      ]
     },
     "execution_count": 23,
     "metadata": {},
     "output_type": "execute_result"
    }
   ],
   "source": [
    "day_count.describe()"
   ]
  },
  {
   "cell_type": "code",
   "execution_count": 143,
   "metadata": {},
   "outputs": [
    {
     "data": {
      "text/plain": [
       "03-10    46\n",
       "Name: 월일, dtype: int64"
      ]
     },
     "execution_count": 143,
     "metadata": {},
     "output_type": "execute_result"
    }
   ],
   "source": [
    "day_count[day_count == day_count.max()]"
   ]
  },
  {
   "cell_type": "code",
   "execution_count": 145,
   "metadata": {
    "scrolled": true
   },
   "outputs": [
    {
     "data": {
      "text/html": [
       "<div>\n",
       "<style scoped>\n",
       "    .dataframe tbody tr th:only-of-type {\n",
       "        vertical-align: middle;\n",
       "    }\n",
       "\n",
       "    .dataframe tbody tr th {\n",
       "        vertical-align: top;\n",
       "    }\n",
       "\n",
       "    .dataframe thead th {\n",
       "        text-align: right;\n",
       "    }\n",
       "</style>\n",
       "<table border=\"1\" class=\"dataframe\">\n",
       "  <thead>\n",
       "    <tr style=\"text-align: right;\">\n",
       "      <th></th>\n",
       "      <th>연번</th>\n",
       "      <th>환자</th>\n",
       "      <th>확진일</th>\n",
       "      <th>거주지</th>\n",
       "      <th>여행력</th>\n",
       "      <th>접촉력</th>\n",
       "      <th>퇴원현황</th>\n",
       "      <th>월</th>\n",
       "      <th>주</th>\n",
       "      <th>월일</th>\n",
       "    </tr>\n",
       "  </thead>\n",
       "  <tbody>\n",
       "    <tr>\n",
       "      <th>1120</th>\n",
       "      <td>202</td>\n",
       "      <td>7567</td>\n",
       "      <td>2020-03-10</td>\n",
       "      <td>노원구</td>\n",
       "      <td>-</td>\n",
       "      <td>Ace 손해보험</td>\n",
       "      <td>퇴원</td>\n",
       "      <td>3</td>\n",
       "      <td>11</td>\n",
       "      <td>03-10</td>\n",
       "    </tr>\n",
       "    <tr>\n",
       "      <th>1121</th>\n",
       "      <td>201</td>\n",
       "      <td>7711</td>\n",
       "      <td>2020-03-10</td>\n",
       "      <td>노원구</td>\n",
       "      <td>-</td>\n",
       "      <td>Ace 손해보험</td>\n",
       "      <td>퇴원</td>\n",
       "      <td>3</td>\n",
       "      <td>11</td>\n",
       "      <td>03-10</td>\n",
       "    </tr>\n",
       "    <tr>\n",
       "      <th>1122</th>\n",
       "      <td>200</td>\n",
       "      <td>7555</td>\n",
       "      <td>2020-03-10</td>\n",
       "      <td>구로구</td>\n",
       "      <td>-</td>\n",
       "      <td>Ace 손해보험</td>\n",
       "      <td>퇴원</td>\n",
       "      <td>3</td>\n",
       "      <td>11</td>\n",
       "      <td>03-10</td>\n",
       "    </tr>\n",
       "    <tr>\n",
       "      <th>1123</th>\n",
       "      <td>199</td>\n",
       "      <td>7725</td>\n",
       "      <td>2020-03-10</td>\n",
       "      <td>양천구</td>\n",
       "      <td>-</td>\n",
       "      <td>Ace 손해보험</td>\n",
       "      <td>퇴원</td>\n",
       "      <td>3</td>\n",
       "      <td>11</td>\n",
       "      <td>03-10</td>\n",
       "    </tr>\n",
       "    <tr>\n",
       "      <th>1124</th>\n",
       "      <td>198</td>\n",
       "      <td>7539</td>\n",
       "      <td>2020-03-10</td>\n",
       "      <td>양천구</td>\n",
       "      <td>-</td>\n",
       "      <td>Ace 손해보험</td>\n",
       "      <td>퇴원</td>\n",
       "      <td>3</td>\n",
       "      <td>11</td>\n",
       "      <td>03-10</td>\n",
       "    </tr>\n",
       "  </tbody>\n",
       "</table>\n",
       "</div>"
      ],
      "text/plain": [
       "       연번    환자        확진일  거주지 여행력       접촉력 퇴원현황  월   주     월일\n",
       "1120  202  7567 2020-03-10  노원구   -  Ace 손해보험   퇴원  3  11  03-10\n",
       "1121  201  7711 2020-03-10  노원구   -  Ace 손해보험   퇴원  3  11  03-10\n",
       "1122  200  7555 2020-03-10  구로구   -  Ace 손해보험   퇴원  3  11  03-10\n",
       "1123  199  7725 2020-03-10  양천구   -  Ace 손해보험   퇴원  3  11  03-10\n",
       "1124  198  7539 2020-03-10  양천구   -  Ace 손해보험   퇴원  3  11  03-10"
      ]
     },
     "execution_count": 145,
     "metadata": {},
     "output_type": "execute_result"
    }
   ],
   "source": [
    "df_6_30[df_6_30[\"월일\"] == '03-10'].head()"
   ]
  },
  {
   "cell_type": "markdown",
   "metadata": {},
   "source": [
    "## 3.4 막대그래프 그리기"
   ]
  },
  {
   "cell_type": "code",
   "execution_count": 37,
   "metadata": {
    "scrolled": true
   },
   "outputs": [
    {
     "data": {
      "text/plain": [
       "<AxesSubplot:>"
      ]
     },
     "execution_count": 37,
     "metadata": {},
     "output_type": "execute_result"
    },
    {
     "data": {
      "image/png": "[encoded data removed]",
      "text/plain": [
       "<Figure size 2160x288 with 1 Axes>"
      ]
     },
     "metadata": {
      "image/png": {
       "height": 287,
       "width": 1912
      }
     },
     "output_type": "display_data"
    }
   ],
   "source": [
    "day_count.plot.bar(figsize=(30,4))"
   ]
  },
  {
   "cell_type": "markdown",
   "metadata": {},
   "source": [
    "## 3.5 최근 데이터만 슬라이싱으로 나눠 그리기"
   ]
  },
  {
   "cell_type": "code",
   "execution_count": 47,
   "metadata": {},
   "outputs": [
    {
     "data": {
      "image/png": "[encoded data removed]",
      "text/plain": [
       "<Figure size 1080x288 with 1 Axes>"
      ]
     },
     "metadata": {
      "image/png": {
       "height": 287,
       "width": 972
      }
     },
     "output_type": "display_data"
    }
   ],
   "source": [
    "g = day_count[-50:].plot.bar(figsize=(15,4))\n",
    "g.axhline(day_count.median(), linestyle=\":\", color=\"red\")\n",
    "for i in range(50):\n",
    "    case_count = day_count[-50:].iloc[i]\n",
    "    if case_count > 10:\n",
    "        g.text(x=i-0.5, y=case_count, s=case_count)"
   ]
  },
  {
   "cell_type": "code",
   "execution_count": null,
   "metadata": {},
   "outputs": [],
   "source": [
    "changing check"
   ]
  }
 ],
 "metadata": {
  "kernelspec": {
   "display_name": "Python 3",
   "language": "python",
   "name": "python3"
  },
  "language_info": {
   "codemirror_mode": {
    "name": "ipython",
    "version": 3
   },
   "file_extension": ".py",
   "mimetype": "text/x-python",
   "name": "python",
   "nbconvert_exporter": "python",
   "pygments_lexer": "ipython3",
   "version": "3.8.8"
  }
 },
 "nbformat": 4,
 "nbformat_minor": 4
}
